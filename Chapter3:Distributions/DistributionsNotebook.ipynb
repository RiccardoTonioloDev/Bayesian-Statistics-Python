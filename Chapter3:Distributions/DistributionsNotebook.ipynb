{
 "cells": [
  {
   "cell_type": "markdown",
   "source": [
    "# Distributions\n",
    "A distribution is a set of possible outcomes and their corresponding probabilities."
   ],
   "metadata": {
    "collapsed": false
   },
   "id": "dcf3501f9faecbb9"
  },
  {
   "cell_type": "markdown",
   "source": [
    "> If the outcomes in a distribution are discrete, we can describe the distribution with a probability mass function, or PMF, which is a function that maps from each possible outcome to its probability."
   ],
   "metadata": {
    "collapsed": false
   },
   "id": "5ff0a716e9cc7637"
  },
  {
   "cell_type": "code",
   "execution_count": 147,
   "id": "initial_id",
   "metadata": {
    "collapsed": true,
    "ExecuteTime": {
     "end_time": "2023-08-30T07:46:10.990072Z",
     "start_time": "2023-08-30T07:46:10.952727Z"
    }
   },
   "outputs": [
    {
     "data": {
      "text/plain": "heads    0.5\ntails    0.5\nName: , dtype: float64",
      "text/html": "<div>\n<style scoped>\n    .dataframe tbody tr th:only-of-type {\n        vertical-align: middle;\n    }\n\n    .dataframe tbody tr th {\n        vertical-align: top;\n    }\n\n    .dataframe thead th {\n        text-align: right;\n    }\n</style>\n<table border=\"1\" class=\"dataframe\">\n  <thead>\n    <tr style=\"text-align: right;\">\n      <th></th>\n      <th>probs</th>\n    </tr>\n  </thead>\n  <tbody>\n    <tr>\n      <th>heads</th>\n      <td>0.5</td>\n    </tr>\n    <tr>\n      <th>tails</th>\n      <td>0.5</td>\n    </tr>\n  </tbody>\n</table>\n</div>"
     },
     "execution_count": 147,
     "metadata": {},
     "output_type": "execute_result"
    }
   ],
   "source": [
    "from empiricaldist import Pmf\n",
    "\n",
    "coin = Pmf()\n",
    "coin['heads'] = 1/2\n",
    "coin['tails'] = 1/2\n",
    "coin"
   ]
  },
  {
   "cell_type": "code",
   "execution_count": 148,
   "outputs": [
    {
     "data": {
      "text/plain": "1    0.166667\n2    0.166667\n3    0.166667\n4    0.166667\n5    0.166667\n6    0.166667\nName: , dtype: float64",
      "text/html": "<div>\n<style scoped>\n    .dataframe tbody tr th:only-of-type {\n        vertical-align: middle;\n    }\n\n    .dataframe tbody tr th {\n        vertical-align: top;\n    }\n\n    .dataframe thead th {\n        text-align: right;\n    }\n</style>\n<table border=\"1\" class=\"dataframe\">\n  <thead>\n    <tr style=\"text-align: right;\">\n      <th></th>\n      <th>probs</th>\n    </tr>\n  </thead>\n  <tbody>\n    <tr>\n      <th>1</th>\n      <td>0.166667</td>\n    </tr>\n    <tr>\n      <th>2</th>\n      <td>0.166667</td>\n    </tr>\n    <tr>\n      <th>3</th>\n      <td>0.166667</td>\n    </tr>\n    <tr>\n      <th>4</th>\n      <td>0.166667</td>\n    </tr>\n    <tr>\n      <th>5</th>\n      <td>0.166667</td>\n    </tr>\n    <tr>\n      <th>6</th>\n      <td>0.166667</td>\n    </tr>\n  </tbody>\n</table>\n</div>"
     },
     "execution_count": 148,
     "metadata": {},
     "output_type": "execute_result"
    }
   ],
   "source": [
    "dice = Pmf.from_seq([1,2,3,4,5,6])\n",
    "dice"
   ],
   "metadata": {
    "collapsed": false,
    "ExecuteTime": {
     "end_time": "2023-08-30T07:46:11.012738Z",
     "start_time": "2023-08-30T07:46:10.960355Z"
    }
   },
   "id": "c1f99a70a611a700"
  },
  {
   "cell_type": "code",
   "execution_count": 149,
   "outputs": [
    {
     "data": {
      "text/plain": "M    0.090909\ni    0.363636\np    0.181818\ns    0.363636\nName: , dtype: float64",
      "text/html": "<div>\n<style scoped>\n    .dataframe tbody tr th:only-of-type {\n        vertical-align: middle;\n    }\n\n    .dataframe tbody tr th {\n        vertical-align: top;\n    }\n\n    .dataframe thead th {\n        text-align: right;\n    }\n</style>\n<table border=\"1\" class=\"dataframe\">\n  <thead>\n    <tr style=\"text-align: right;\">\n      <th></th>\n      <th>probs</th>\n    </tr>\n  </thead>\n  <tbody>\n    <tr>\n      <th>M</th>\n      <td>0.090909</td>\n    </tr>\n    <tr>\n      <th>i</th>\n      <td>0.363636</td>\n    </tr>\n    <tr>\n      <th>p</th>\n      <td>0.181818</td>\n    </tr>\n    <tr>\n      <th>s</th>\n      <td>0.363636</td>\n    </tr>\n  </tbody>\n</table>\n</div>"
     },
     "execution_count": 149,
     "metadata": {},
     "output_type": "execute_result"
    }
   ],
   "source": [
    "letters = Pmf.from_seq(list(\"Mississippi\"))\n",
    "letters"
   ],
   "metadata": {
    "collapsed": false,
    "ExecuteTime": {
     "end_time": "2023-08-30T07:46:11.050702Z",
     "start_time": "2023-08-30T07:46:10.965662Z"
    }
   },
   "id": "f29526f1206f7e2d"
  },
  {
   "cell_type": "code",
   "execution_count": 150,
   "outputs": [
    {
     "data": {
      "text/plain": "0.36363636363636365"
     },
     "execution_count": 150,
     "metadata": {},
     "output_type": "execute_result"
    }
   ],
   "source": [
    "letters[\"s\"]"
   ],
   "metadata": {
    "collapsed": false,
    "ExecuteTime": {
     "end_time": "2023-08-30T07:46:11.051137Z",
     "start_time": "2023-08-30T07:46:10.969701Z"
    }
   },
   "id": "39fcec511964da84"
  },
  {
   "cell_type": "code",
   "execution_count": 151,
   "outputs": [
    {
     "data": {
      "text/plain": "0.36363636363636365"
     },
     "execution_count": 151,
     "metadata": {},
     "output_type": "execute_result"
    }
   ],
   "source": [
    "letters(\"s\") #this way if we query for something that's not in the distribution, we don't get an error, but instead we get a 0 probability"
   ],
   "metadata": {
    "collapsed": false,
    "ExecuteTime": {
     "end_time": "2023-08-30T07:46:11.051217Z",
     "start_time": "2023-08-30T07:46:10.974435Z"
    }
   },
   "id": "fcb33dcd1a95d2da"
  },
  {
   "cell_type": "markdown",
   "source": [
    "# The cookie problem, revisited"
   ],
   "metadata": {
    "collapsed": false
   },
   "id": "91f83438869426f"
  },
  {
   "cell_type": "code",
   "execution_count": 152,
   "outputs": [
    {
     "data": {
      "text/plain": "Bowl 1    0.5\nBowl 2    0.5\nName: , dtype: float64",
      "text/html": "<div>\n<style scoped>\n    .dataframe tbody tr th:only-of-type {\n        vertical-align: middle;\n    }\n\n    .dataframe tbody tr th {\n        vertical-align: top;\n    }\n\n    .dataframe thead th {\n        text-align: right;\n    }\n</style>\n<table border=\"1\" class=\"dataframe\">\n  <thead>\n    <tr style=\"text-align: right;\">\n      <th></th>\n      <th>probs</th>\n    </tr>\n  </thead>\n  <tbody>\n    <tr>\n      <th>Bowl 1</th>\n      <td>0.5</td>\n    </tr>\n    <tr>\n      <th>Bowl 2</th>\n      <td>0.5</td>\n    </tr>\n  </tbody>\n</table>\n</div>"
     },
     "execution_count": 152,
     "metadata": {},
     "output_type": "execute_result"
    }
   ],
   "source": [
    "prior = Pmf.from_seq([\"Bowl 1\", \"Bowl 2\"])\n",
    "prior #that's called prior distribution"
   ],
   "metadata": {
    "collapsed": false,
    "ExecuteTime": {
     "end_time": "2023-08-30T07:46:11.051366Z",
     "start_time": "2023-08-30T07:46:10.980168Z"
    }
   },
   "id": "5311b5105e303c12"
  },
  {
   "cell_type": "code",
   "execution_count": 153,
   "outputs": [
    {
     "data": {
      "text/plain": "Bowl 1    0.375\nBowl 2    0.250\nName: , dtype: float64",
      "text/html": "<div>\n<style scoped>\n    .dataframe tbody tr th:only-of-type {\n        vertical-align: middle;\n    }\n\n    .dataframe tbody tr th {\n        vertical-align: top;\n    }\n\n    .dataframe thead th {\n        text-align: right;\n    }\n</style>\n<table border=\"1\" class=\"dataframe\">\n  <thead>\n    <tr style=\"text-align: right;\">\n      <th></th>\n      <th>probs</th>\n    </tr>\n  </thead>\n  <tbody>\n    <tr>\n      <th>Bowl 1</th>\n      <td>0.375</td>\n    </tr>\n    <tr>\n      <th>Bowl 2</th>\n      <td>0.250</td>\n    </tr>\n  </tbody>\n</table>\n</div>"
     },
     "execution_count": 153,
     "metadata": {},
     "output_type": "execute_result"
    }
   ],
   "source": [
    "likelihood_vanilla = [0.75, 0.5]\n",
    "posterior = prior * likelihood_vanilla\n",
    "posterior"
   ],
   "metadata": {
    "collapsed": false,
    "ExecuteTime": {
     "end_time": "2023-08-30T07:46:11.051468Z",
     "start_time": "2023-08-30T07:46:10.985461Z"
    }
   },
   "id": "96435a641688efc4"
  },
  {
   "cell_type": "code",
   "execution_count": 154,
   "outputs": [
    {
     "data": {
      "text/plain": "Bowl 1    0.6\nBowl 2    0.4\nName: , dtype: float64",
      "text/html": "<div>\n<style scoped>\n    .dataframe tbody tr th:only-of-type {\n        vertical-align: middle;\n    }\n\n    .dataframe tbody tr th {\n        vertical-align: top;\n    }\n\n    .dataframe thead th {\n        text-align: right;\n    }\n</style>\n<table border=\"1\" class=\"dataframe\">\n  <thead>\n    <tr style=\"text-align: right;\">\n      <th></th>\n      <th>probs</th>\n    </tr>\n  </thead>\n  <tbody>\n    <tr>\n      <th>Bowl 1</th>\n      <td>0.6</td>\n    </tr>\n    <tr>\n      <th>Bowl 2</th>\n      <td>0.4</td>\n    </tr>\n  </tbody>\n</table>\n</div>"
     },
     "execution_count": 154,
     "metadata": {},
     "output_type": "execute_result"
    }
   ],
   "source": [
    "posterior.normalize()\n",
    "posterior #that's called posterior distribution"
   ],
   "metadata": {
    "collapsed": false,
    "ExecuteTime": {
     "end_time": "2023-08-30T07:46:11.052434Z",
     "start_time": "2023-08-30T07:46:10.987669Z"
    }
   },
   "id": "bf99b06a81563b37"
  },
  {
   "cell_type": "code",
   "execution_count": 155,
   "outputs": [
    {
     "data": {
      "text/plain": "Bowl 1    0.692308\nBowl 2    0.307692\nName: , dtype: float64",
      "text/html": "<div>\n<style scoped>\n    .dataframe tbody tr th:only-of-type {\n        vertical-align: middle;\n    }\n\n    .dataframe tbody tr th {\n        vertical-align: top;\n    }\n\n    .dataframe thead th {\n        text-align: right;\n    }\n</style>\n<table border=\"1\" class=\"dataframe\">\n  <thead>\n    <tr style=\"text-align: right;\">\n      <th></th>\n      <th>probs</th>\n    </tr>\n  </thead>\n  <tbody>\n    <tr>\n      <th>Bowl 1</th>\n      <td>0.692308</td>\n    </tr>\n    <tr>\n      <th>Bowl 2</th>\n      <td>0.307692</td>\n    </tr>\n  </tbody>\n</table>\n</div>"
     },
     "execution_count": 155,
     "metadata": {},
     "output_type": "execute_result"
    }
   ],
   "source": [
    "#what if we put the cookie back to the corresponding bowl, and then retrieve a new cookie from the same bowl, and it's vanilla again?\n",
    "posterior *= likelihood_vanilla\n",
    "posterior.normalize()\n",
    "posterior"
   ],
   "metadata": {
    "collapsed": false,
    "ExecuteTime": {
     "end_time": "2023-08-30T07:46:11.052554Z",
     "start_time": "2023-08-30T07:46:10.995608Z"
    }
   },
   "id": "f6456bac147ccf1d"
  },
  {
   "cell_type": "code",
   "execution_count": 156,
   "outputs": [
    {
     "data": {
      "text/plain": "Bowl 1    0.529412\nBowl 2    0.470588\nName: , dtype: float64",
      "text/html": "<div>\n<style scoped>\n    .dataframe tbody tr th:only-of-type {\n        vertical-align: middle;\n    }\n\n    .dataframe tbody tr th {\n        vertical-align: top;\n    }\n\n    .dataframe thead th {\n        text-align: right;\n    }\n</style>\n<table border=\"1\" class=\"dataframe\">\n  <thead>\n    <tr style=\"text-align: right;\">\n      <th></th>\n      <th>probs</th>\n    </tr>\n  </thead>\n  <tbody>\n    <tr>\n      <th>Bowl 1</th>\n      <td>0.529412</td>\n    </tr>\n    <tr>\n      <th>Bowl 2</th>\n      <td>0.470588</td>\n    </tr>\n  </tbody>\n</table>\n</div>"
     },
     "execution_count": 156,
     "metadata": {},
     "output_type": "execute_result"
    }
   ],
   "source": [
    "likelihood_chocolate = [0.25,0.5]\n",
    "\n",
    "posterior *= likelihood_chocolate\n",
    "posterior.normalize()\n",
    "posterior"
   ],
   "metadata": {
    "collapsed": false,
    "ExecuteTime": {
     "end_time": "2023-08-30T07:46:11.052648Z",
     "start_time": "2023-08-30T07:46:11.001211Z"
    }
   },
   "id": "824da88187068041"
  },
  {
   "cell_type": "markdown",
   "source": [
    "# The 101 Bowls problem"
   ],
   "metadata": {
    "collapsed": false
   },
   "id": "a481cc5e57400cd5"
  },
  {
   "cell_type": "code",
   "execution_count": 157,
   "outputs": [
    {
     "data": {
      "text/plain": "0    0.009901\n1    0.009901\n2    0.009901\nName: , dtype: float64",
      "text/html": "<div>\n<style scoped>\n    .dataframe tbody tr th:only-of-type {\n        vertical-align: middle;\n    }\n\n    .dataframe tbody tr th {\n        vertical-align: top;\n    }\n\n    .dataframe thead th {\n        text-align: right;\n    }\n</style>\n<table border=\"1\" class=\"dataframe\">\n  <thead>\n    <tr style=\"text-align: right;\">\n      <th></th>\n      <th>probs</th>\n    </tr>\n  </thead>\n  <tbody>\n    <tr>\n      <th>0</th>\n      <td>0.009901</td>\n    </tr>\n    <tr>\n      <th>1</th>\n      <td>0.009901</td>\n    </tr>\n    <tr>\n      <th>2</th>\n      <td>0.009901</td>\n    </tr>\n  </tbody>\n</table>\n</div>"
     },
     "execution_count": 157,
     "metadata": {},
     "output_type": "execute_result"
    }
   ],
   "source": [
    "import numpy as np\n",
    "\n",
    "hypos = np.arange(101)\n",
    "prior = Pmf(1,hypos) # the first parameter specifies that each discrete event has a proability of 1 (after, the probabilities will be normalized)\n",
    "prior.normalize()\n",
    "prior.head()"
   ],
   "metadata": {
    "collapsed": false,
    "ExecuteTime": {
     "end_time": "2023-08-30T07:46:11.052758Z",
     "start_time": "2023-08-30T07:46:11.006767Z"
    }
   },
   "id": "b051715adbf3818"
  },
  {
   "cell_type": "code",
   "execution_count": 158,
   "outputs": [
    {
     "data": {
      "text/plain": "0      0.000000\n1      0.000198\n2      0.000396\n3      0.000594\n4      0.000792\n         ...   \n96     0.019010\n97     0.019208\n98     0.019406\n99     0.019604\n100    0.019802\nName: , Length: 101, dtype: float64",
      "text/html": "<div>\n<style scoped>\n    .dataframe tbody tr th:only-of-type {\n        vertical-align: middle;\n    }\n\n    .dataframe tbody tr th {\n        vertical-align: top;\n    }\n\n    .dataframe thead th {\n        text-align: right;\n    }\n</style>\n<table border=\"1\" class=\"dataframe\">\n  <thead>\n    <tr style=\"text-align: right;\">\n      <th></th>\n      <th>probs</th>\n    </tr>\n  </thead>\n  <tbody>\n    <tr>\n      <th>0</th>\n      <td>0.000000</td>\n    </tr>\n    <tr>\n      <th>1</th>\n      <td>0.000198</td>\n    </tr>\n    <tr>\n      <th>2</th>\n      <td>0.000396</td>\n    </tr>\n    <tr>\n      <th>3</th>\n      <td>0.000594</td>\n    </tr>\n    <tr>\n      <th>4</th>\n      <td>0.000792</td>\n    </tr>\n    <tr>\n      <th>...</th>\n      <td>...</td>\n    </tr>\n    <tr>\n      <th>96</th>\n      <td>0.019010</td>\n    </tr>\n    <tr>\n      <th>97</th>\n      <td>0.019208</td>\n    </tr>\n    <tr>\n      <th>98</th>\n      <td>0.019406</td>\n    </tr>\n    <tr>\n      <th>99</th>\n      <td>0.019604</td>\n    </tr>\n    <tr>\n      <th>100</th>\n      <td>0.019802</td>\n    </tr>\n  </tbody>\n</table>\n<p>101 rows × 1 columns</p>\n</div>"
     },
     "execution_count": 158,
     "metadata": {},
     "output_type": "execute_result"
    }
   ],
   "source": [
    "likelihood_vanilla = hypos / 100\n",
    "\n",
    "posterior1 = prior*likelihood_vanilla\n",
    "posterior1.normalize()\n",
    "posterior1"
   ],
   "metadata": {
    "collapsed": false,
    "ExecuteTime": {
     "end_time": "2023-08-30T07:46:11.053697Z",
     "start_time": "2023-08-30T07:46:11.013944Z"
    }
   },
   "id": "1e66abdf047974b8"
  },
  {
   "cell_type": "code",
   "execution_count": 159,
   "outputs": [
    {
     "data": {
      "text/plain": "<Figure size 640x480 with 1 Axes>",
      "image/png": "[encoded data removed]"
     },
     "metadata": {},
     "output_type": "display_data"
    }
   ],
   "source": [
    "import matplotlib.pyplot as plt\n",
    "\n",
    "plt.plot(hypos,posterior1,label='1 vanilla extraction')\n",
    "plt.xlabel('Bowl #')\n",
    "plt.ylabel('PMF')\n",
    "\n",
    "plt.legend()\n",
    "plt.show()"
   ],
   "metadata": {
    "collapsed": false,
    "ExecuteTime": {
     "end_time": "2023-08-30T07:46:11.154158Z",
     "start_time": "2023-08-30T07:46:11.036014Z"
    }
   },
   "id": "ba4205793dac4c5b"
  },
  {
   "cell_type": "code",
   "execution_count": 160,
   "outputs": [
    {
     "data": {
      "text/plain": "<Figure size 640x480 with 1 Axes>",
      "image/png": "[encoded data removed]"
     },
     "metadata": {},
     "output_type": "display_data"
    }
   ],
   "source": [
    "posterior90 = posterior1\n",
    "for i in range(0,89):\n",
    "    posterior90 = posterior90 * likelihood_vanilla\n",
    "    posterior90.normalize()\n",
    "    \n",
    "plt.plot(hypos,posterior90,label='90 vanilla extraction')\n",
    "plt.xlabel('Bowl #')\n",
    "plt.ylabel('PMF')\n",
    "\n",
    "plt.legend()\n",
    "plt.show()"
   ],
   "metadata": {
    "collapsed": false,
    "ExecuteTime": {
     "end_time": "2023-08-30T07:46:11.335950Z",
     "start_time": "2023-08-30T07:46:11.136886Z"
    }
   },
   "id": "faa641cabd192721"
  },
  {
   "cell_type": "code",
   "execution_count": 161,
   "outputs": [
    {
     "data": {
      "text/plain": "0      0.000000\n1      0.000594\n2      0.001176\n3      0.001746\n4      0.002304\n         ...   \n96     0.002304\n97     0.001746\n98     0.001176\n99     0.000594\n100    0.000000\nName: , Length: 101, dtype: float64",
      "text/html": "<div>\n<style scoped>\n    .dataframe tbody tr th:only-of-type {\n        vertical-align: middle;\n    }\n\n    .dataframe tbody tr th {\n        vertical-align: top;\n    }\n\n    .dataframe thead th {\n        text-align: right;\n    }\n</style>\n<table border=\"1\" class=\"dataframe\">\n  <thead>\n    <tr style=\"text-align: right;\">\n      <th></th>\n      <th>probs</th>\n    </tr>\n  </thead>\n  <tbody>\n    <tr>\n      <th>0</th>\n      <td>0.000000</td>\n    </tr>\n    <tr>\n      <th>1</th>\n      <td>0.000594</td>\n    </tr>\n    <tr>\n      <th>2</th>\n      <td>0.001176</td>\n    </tr>\n    <tr>\n      <th>3</th>\n      <td>0.001746</td>\n    </tr>\n    <tr>\n      <th>4</th>\n      <td>0.002304</td>\n    </tr>\n    <tr>\n      <th>...</th>\n      <td>...</td>\n    </tr>\n    <tr>\n      <th>96</th>\n      <td>0.002304</td>\n    </tr>\n    <tr>\n      <th>97</th>\n      <td>0.001746</td>\n    </tr>\n    <tr>\n      <th>98</th>\n      <td>0.001176</td>\n    </tr>\n    <tr>\n      <th>99</th>\n      <td>0.000594</td>\n    </tr>\n    <tr>\n      <th>100</th>\n      <td>0.000000</td>\n    </tr>\n  </tbody>\n</table>\n<p>101 rows × 1 columns</p>\n</div>"
     },
     "execution_count": 161,
     "metadata": {},
     "output_type": "execute_result"
    }
   ],
   "source": [
    "likelihood_chocolate = 1 - hypos/100\n",
    "posterior2 = posterior1 * likelihood_chocolate\n",
    "posterior2.normalize()\n",
    "posterior2"
   ],
   "metadata": {
    "collapsed": false,
    "ExecuteTime": {
     "end_time": "2023-08-30T07:46:11.336261Z",
     "start_time": "2023-08-30T07:46:11.225802Z"
    }
   },
   "id": "4333bb8a047d3061"
  },
  {
   "cell_type": "code",
   "execution_count": 162,
   "outputs": [
    {
     "data": {
      "text/plain": "<Figure size 640x480 with 1 Axes>",
      "image/png": "[encoded data removed]"
     },
     "metadata": {},
     "output_type": "display_data"
    }
   ],
   "source": [
    "plt.plot(hypos,posterior2,label='1 vanilla 1 chocolate')\n",
    "plt.xlabel('Bowl #')\n",
    "plt.ylabel('PMF')\n",
    "\n",
    "plt.legend()\n",
    "plt.show()"
   ],
   "metadata": {
    "collapsed": false,
    "ExecuteTime": {
     "end_time": "2023-08-30T07:46:11.337542Z",
     "start_time": "2023-08-30T07:46:11.239527Z"
    }
   },
   "id": "7f7c4648b4a7c7c4"
  },
  {
   "cell_type": "markdown",
   "source": [
    "The quantity of the highest posterior probability is called *MAP*, which stands for \"maximum a posteriori probability\"."
   ],
   "metadata": {
    "collapsed": false
   },
   "id": "b2a53959c56b006b"
  },
  {
   "cell_type": "code",
   "execution_count": 163,
   "outputs": [
    {
     "data": {
      "text/plain": "50"
     },
     "execution_count": 163,
     "metadata": {},
     "output_type": "execute_result"
    }
   ],
   "source": [
    "# MAP:\n",
    "posterior2.idxmax() # coming from Pandas"
   ],
   "metadata": {
    "collapsed": false,
    "ExecuteTime": {
     "end_time": "2023-08-30T07:46:11.337687Z",
     "start_time": "2023-08-30T07:46:11.331489Z"
    }
   },
   "id": "d87e085d5e973fb2"
  },
  {
   "cell_type": "code",
   "execution_count": 164,
   "outputs": [
    {
     "data": {
      "text/plain": "50"
     },
     "execution_count": 164,
     "metadata": {},
     "output_type": "execute_result"
    }
   ],
   "source": [
    "posterior2.max_prob() # coming from Pmf"
   ],
   "metadata": {
    "collapsed": false,
    "ExecuteTime": {
     "end_time": "2023-08-30T07:46:11.344431Z",
     "start_time": "2023-08-30T07:46:11.337351Z"
    }
   },
   "id": "4345447b6ae452ef"
  },
  {
   "cell_type": "markdown",
   "source": [
    "> It's all about estimating proportions!\n",
    " \n",
    "You don't know what fraction of cookies are vanilla , but you think it is equally likely to be any fraction from 0 to 1. If you draw two cookies and only one is vanilla, what proportion of cookies in the bowl do you think are vanilla? The posterior distribution we just computed is the answer to that question."
   ],
   "metadata": {
    "collapsed": false
   },
   "id": "7104d564efc1cc7d"
  },
  {
   "cell_type": "markdown",
   "source": [
    "# The dice problem"
   ],
   "metadata": {
    "collapsed": false
   },
   "id": "1412bb472a516928"
  },
  {
   "cell_type": "code",
   "execution_count": 165,
   "outputs": [
    {
     "data": {
      "text/plain": "6     0.333333\n8     0.333333\n12    0.333333\nName: , dtype: float64",
      "text/html": "<div>\n<style scoped>\n    .dataframe tbody tr th:only-of-type {\n        vertical-align: middle;\n    }\n\n    .dataframe tbody tr th {\n        vertical-align: top;\n    }\n\n    .dataframe thead th {\n        text-align: right;\n    }\n</style>\n<table border=\"1\" class=\"dataframe\">\n  <thead>\n    <tr style=\"text-align: right;\">\n      <th></th>\n      <th>probs</th>\n    </tr>\n  </thead>\n  <tbody>\n    <tr>\n      <th>6</th>\n      <td>0.333333</td>\n    </tr>\n    <tr>\n      <th>8</th>\n      <td>0.333333</td>\n    </tr>\n    <tr>\n      <th>12</th>\n      <td>0.333333</td>\n    </tr>\n  </tbody>\n</table>\n</div>"
     },
     "execution_count": 165,
     "metadata": {},
     "output_type": "execute_result"
    }
   ],
   "source": [
    "hypos = [6,8,12]\n",
    "prior = Pmf(1/3,hypos)\n",
    "prior"
   ],
   "metadata": {
    "collapsed": false,
    "ExecuteTime": {
     "end_time": "2023-08-30T07:46:11.365286Z",
     "start_time": "2023-08-30T07:46:11.346355Z"
    }
   },
   "id": "6b97a5cf9d26b81e"
  },
  {
   "cell_type": "code",
   "execution_count": 166,
   "outputs": [
    {
     "data": {
      "text/plain": "array([ 6,  8, 12])"
     },
     "execution_count": 166,
     "metadata": {},
     "output_type": "execute_result"
    }
   ],
   "source": [
    "prior.qs # quantities of the distribution"
   ],
   "metadata": {
    "collapsed": false,
    "ExecuteTime": {
     "end_time": "2023-08-30T07:46:11.453551Z",
     "start_time": "2023-08-30T07:46:11.354481Z"
    }
   },
   "id": "32cde9e79d9553fe"
  },
  {
   "cell_type": "code",
   "execution_count": 167,
   "outputs": [
    {
     "data": {
      "text/plain": "array([0.33333333, 0.33333333, 0.33333333])"
     },
     "execution_count": 167,
     "metadata": {},
     "output_type": "execute_result"
    }
   ],
   "source": [
    "prior.ps # corresponding probabilities"
   ],
   "metadata": {
    "collapsed": false,
    "ExecuteTime": {
     "end_time": "2023-08-30T07:46:11.467635Z",
     "start_time": "2023-08-30T07:46:11.361511Z"
    }
   },
   "id": "d9e8528bd192baf8"
  },
  {
   "cell_type": "code",
   "execution_count": 174,
   "outputs": [
    {
     "data": {
      "text/plain": "6     0.444444\n8     0.333333\n12    0.222222\nName: , dtype: float64",
      "text/html": "<div>\n<style scoped>\n    .dataframe tbody tr th:only-of-type {\n        vertical-align: middle;\n    }\n\n    .dataframe tbody tr th {\n        vertical-align: top;\n    }\n\n    .dataframe thead th {\n        text-align: right;\n    }\n</style>\n<table border=\"1\" class=\"dataframe\">\n  <thead>\n    <tr style=\"text-align: right;\">\n      <th></th>\n      <th>probs</th>\n    </tr>\n  </thead>\n  <tbody>\n    <tr>\n      <th>6</th>\n      <td>0.444444</td>\n    </tr>\n    <tr>\n      <th>8</th>\n      <td>0.333333</td>\n    </tr>\n    <tr>\n      <th>12</th>\n      <td>0.222222</td>\n    </tr>\n  </tbody>\n</table>\n</div>"
     },
     "execution_count": 174,
     "metadata": {},
     "output_type": "execute_result"
    }
   ],
   "source": [
    "likelihood1 = 1/6,1/8,1/12\n",
    "\n",
    "posteriorDice = prior*likelihood1\n",
    "posteriorDice.normalize()\n",
    "posteriorDice"
   ],
   "metadata": {
    "collapsed": false,
    "ExecuteTime": {
     "end_time": "2023-08-30T07:50:09.534311Z",
     "start_time": "2023-08-30T07:50:09.520780Z"
    }
   },
   "id": "a5b02c85be4f29ec"
  },
  {
   "cell_type": "code",
   "execution_count": 169,
   "outputs": [
    {
     "data": {
      "text/plain": "6     0.000000\n8     0.692308\n12    0.307692\nName: , dtype: float64",
      "text/html": "<div>\n<style scoped>\n    .dataframe tbody tr th:only-of-type {\n        vertical-align: middle;\n    }\n\n    .dataframe tbody tr th {\n        vertical-align: top;\n    }\n\n    .dataframe thead th {\n        text-align: right;\n    }\n</style>\n<table border=\"1\" class=\"dataframe\">\n  <thead>\n    <tr style=\"text-align: right;\">\n      <th></th>\n      <th>probs</th>\n    </tr>\n  </thead>\n  <tbody>\n    <tr>\n      <th>6</th>\n      <td>0.000000</td>\n    </tr>\n    <tr>\n      <th>8</th>\n      <td>0.692308</td>\n    </tr>\n    <tr>\n      <th>12</th>\n      <td>0.307692</td>\n    </tr>\n  </tbody>\n</table>\n</div>"
     },
     "execution_count": 169,
     "metadata": {},
     "output_type": "execute_result"
    }
   ],
   "source": [
    "likelihood_rolling7 = 0,1/8,1/12\n",
    "\n",
    "posteriorDice *= likelihood_rolling7\n",
    "posteriorDice.normalize()\n",
    "posteriorDice"
   ],
   "metadata": {
    "collapsed": false,
    "ExecuteTime": {
     "end_time": "2023-08-30T07:46:11.474447Z",
     "start_time": "2023-08-30T07:46:11.377258Z"
    }
   },
   "id": "97b05b894e5407b8"
  },
  {
   "cell_type": "code",
   "execution_count": 170,
   "outputs": [],
   "source": [
    "def update_dice(pmf: Pmf, data):\n",
    "    \"\"\"update pmf based on new data\"\"\"\n",
    "    hypos = pmf.qs #selecting quantities that represent hypotheses\n",
    "    likelihood = 1/hypos # here for example in a 12-face dice, the probability of a number is 1/12\n",
    "    impossible = data > hypos # if the dice is a 6-face dice, the probability of a 7 is 0, so we have to spot those occurrences\n",
    "    # impossible is a boolean series that's true for every impossible outcome\n",
    "    \n",
    "    likelihood[impossible] = 0\n",
    "    pmf *= likelihood\n",
    "    pmf.normalize()"
   ],
   "metadata": {
    "collapsed": false,
    "ExecuteTime": {
     "end_time": "2023-08-30T07:46:11.474544Z",
     "start_time": "2023-08-30T07:46:11.381368Z"
    }
   },
   "id": "875b0abcba605e55"
  },
  {
   "cell_type": "code",
   "execution_count": 171,
   "outputs": [
    {
     "data": {
      "text/plain": "6     0.333333\n8     0.333333\n12    0.333333\nName: , dtype: float64",
      "text/html": "<div>\n<style scoped>\n    .dataframe tbody tr th:only-of-type {\n        vertical-align: middle;\n    }\n\n    .dataframe tbody tr th {\n        vertical-align: top;\n    }\n\n    .dataframe thead th {\n        text-align: right;\n    }\n</style>\n<table border=\"1\" class=\"dataframe\">\n  <thead>\n    <tr style=\"text-align: right;\">\n      <th></th>\n      <th>probs</th>\n    </tr>\n  </thead>\n  <tbody>\n    <tr>\n      <th>6</th>\n      <td>0.333333</td>\n    </tr>\n    <tr>\n      <th>8</th>\n      <td>0.333333</td>\n    </tr>\n    <tr>\n      <th>12</th>\n      <td>0.333333</td>\n    </tr>\n  </tbody>\n</table>\n</div>"
     },
     "execution_count": 171,
     "metadata": {},
     "output_type": "execute_result"
    }
   ],
   "source": [
    "pmf = prior.copy()\n",
    "pmf"
   ],
   "metadata": {
    "collapsed": false,
    "ExecuteTime": {
     "end_time": "2023-08-30T07:46:11.474662Z",
     "start_time": "2023-08-30T07:46:11.386790Z"
    }
   },
   "id": "925f93c748f1b812"
  },
  {
   "cell_type": "code",
   "execution_count": 172,
   "outputs": [
    {
     "data": {
      "text/plain": "6     0.000000\n8     0.692308\n12    0.307692\nName: , dtype: float64",
      "text/html": "<div>\n<style scoped>\n    .dataframe tbody tr th:only-of-type {\n        vertical-align: middle;\n    }\n\n    .dataframe tbody tr th {\n        vertical-align: top;\n    }\n\n    .dataframe thead th {\n        text-align: right;\n    }\n</style>\n<table border=\"1\" class=\"dataframe\">\n  <thead>\n    <tr style=\"text-align: right;\">\n      <th></th>\n      <th>probs</th>\n    </tr>\n  </thead>\n  <tbody>\n    <tr>\n      <th>6</th>\n      <td>0.000000</td>\n    </tr>\n    <tr>\n      <th>8</th>\n      <td>0.692308</td>\n    </tr>\n    <tr>\n      <th>12</th>\n      <td>0.307692</td>\n    </tr>\n  </tbody>\n</table>\n</div>"
     },
     "execution_count": 172,
     "metadata": {},
     "output_type": "execute_result"
    }
   ],
   "source": [
    "update_dice(pmf,1)\n",
    "update_dice(pmf,7)\n",
    "pmf"
   ],
   "metadata": {
    "collapsed": false,
    "ExecuteTime": {
     "end_time": "2023-08-30T07:46:11.508004Z",
     "start_time": "2023-08-30T07:46:11.393458Z"
    }
   },
   "id": "6d143aa3b59268b5"
  },
  {
   "cell_type": "code",
   "execution_count": 172,
   "outputs": [],
   "source": [],
   "metadata": {
    "collapsed": false,
    "ExecuteTime": {
     "end_time": "2023-08-30T07:46:11.508167Z",
     "start_time": "2023-08-30T07:46:11.396457Z"
    }
   },
   "id": "2d80c6ec6b3ce97b"
  }
 ],
 "metadata": {
  "kernelspec": {
   "display_name": "Python 3",
   "language": "python",
   "name": "python3"
  },
  "language_info": {
   "codemirror_mode": {
    "name": "ipython",
    "version": 2
   },
   "file_extension": ".py",
   "mimetype": "text/x-python",
   "name": "python",
   "nbconvert_exporter": "python",
   "pygments_lexer": "ipython2",
   "version": "2.7.6"
  }
 },
 "nbformat": 4,
 "nbformat_minor": 5
}
