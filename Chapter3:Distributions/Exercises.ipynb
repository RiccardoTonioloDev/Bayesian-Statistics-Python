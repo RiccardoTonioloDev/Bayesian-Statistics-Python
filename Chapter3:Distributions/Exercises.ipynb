{
 "cells": [
  {
   "cell_type": "code",
   "execution_count": 23,
   "id": "initial_id",
   "metadata": {
    "collapsed": true,
    "ExecuteTime": {
     "end_time": "2023-08-30T08:49:05.742139Z",
     "start_time": "2023-08-30T08:49:05.626875Z"
    }
   },
   "outputs": [],
   "source": [
    "from empiricaldist import Pmf"
   ]
  },
  {
   "cell_type": "markdown",
   "source": [
    "# Exercise 3-1"
   ],
   "metadata": {
    "collapsed": false
   },
   "id": "f2020b0baa311432"
  },
  {
   "cell_type": "code",
   "execution_count": 24,
   "outputs": [
    {
     "data": {
      "text/plain": "6     0.000000\n8     0.835052\n12    0.164948\nName: , dtype: float64",
      "text/html": "<div>\n<style scoped>\n    .dataframe tbody tr th:only-of-type {\n        vertical-align: middle;\n    }\n\n    .dataframe tbody tr th {\n        vertical-align: top;\n    }\n\n    .dataframe thead th {\n        text-align: right;\n    }\n</style>\n<table border=\"1\" class=\"dataframe\">\n  <thead>\n    <tr style=\"text-align: right;\">\n      <th></th>\n      <th>probs</th>\n    </tr>\n  </thead>\n  <tbody>\n    <tr>\n      <th>6</th>\n      <td>0.000000</td>\n    </tr>\n    <tr>\n      <th>8</th>\n      <td>0.835052</td>\n    </tr>\n    <tr>\n      <th>12</th>\n      <td>0.164948</td>\n    </tr>\n  </tbody>\n</table>\n</div>"
     },
     "execution_count": 24,
     "metadata": {},
     "output_type": "execute_result"
    }
   ],
   "source": [
    "hypos = 6,8,12\n",
    "prior = Pmf(1/3, hypos)\n",
    "hypos = prior.qs\n",
    "likelihood_1 = 1/hypos\n",
    "likelihood_3 = 1/hypos\n",
    "likelihood_5 = 1/hypos\n",
    "likelihood_7 = 1/hypos\n",
    "likelihood_7[0] = 0\n",
    "\n",
    "posterior = prior*likelihood_1\n",
    "posterior.normalize()\n",
    "posterior *= likelihood_3\n",
    "posterior.normalize()\n",
    "posterior *= likelihood_5\n",
    "posterior.normalize()\n",
    "posterior *= likelihood_7\n",
    "posterior.normalize()\n",
    "\n",
    "posterior"
   ],
   "metadata": {
    "collapsed": false,
    "ExecuteTime": {
     "end_time": "2023-08-30T08:49:05.757961Z",
     "start_time": "2023-08-30T08:49:05.643758Z"
    }
   },
   "id": "801c931c193e7f6c"
  },
  {
   "cell_type": "markdown",
   "source": [
    "# Exercise 3-2"
   ],
   "metadata": {
    "collapsed": false
   },
   "id": "1e45705240dd8910"
  },
  {
   "cell_type": "code",
   "execution_count": 25,
   "outputs": [
    {
     "data": {
      "text/plain": "4     0.000000\n6     0.000000\n8     0.391304\n12    0.347826\n20    0.260870\nName: , dtype: float64",
      "text/html": "<div>\n<style scoped>\n    .dataframe tbody tr th:only-of-type {\n        vertical-align: middle;\n    }\n\n    .dataframe tbody tr th {\n        vertical-align: top;\n    }\n\n    .dataframe thead th {\n        text-align: right;\n    }\n</style>\n<table border=\"1\" class=\"dataframe\">\n  <thead>\n    <tr style=\"text-align: right;\">\n      <th></th>\n      <th>probs</th>\n    </tr>\n  </thead>\n  <tbody>\n    <tr>\n      <th>4</th>\n      <td>0.000000</td>\n    </tr>\n    <tr>\n      <th>6</th>\n      <td>0.000000</td>\n    </tr>\n    <tr>\n      <th>8</th>\n      <td>0.391304</td>\n    </tr>\n    <tr>\n      <th>12</th>\n      <td>0.347826</td>\n    </tr>\n    <tr>\n      <th>20</th>\n      <td>0.260870</td>\n    </tr>\n  </tbody>\n</table>\n</div>"
     },
     "execution_count": 25,
     "metadata": {},
     "output_type": "execute_result"
    }
   ],
   "source": [
    "hypos = [4,6,8,12,20]\n",
    "hypos_distribution = [1,2,3,4,5]\n",
    "\n",
    "prior = Pmf(hypos_distribution,hypos)\n",
    "prior.normalize()\n",
    "hypos = prior.qs\n",
    "\n",
    "likelihood_7 = 1/hypos\n",
    "likelihood_7[0] = 0\n",
    "likelihood_7[1] = 0\n",
    "\n",
    "posterior = prior * likelihood_7\n",
    "posterior.normalize()\n",
    "posterior"
   ],
   "metadata": {
    "collapsed": false,
    "ExecuteTime": {
     "end_time": "2023-08-30T08:49:05.758137Z",
     "start_time": "2023-08-30T08:49:05.653207Z"
    }
   },
   "id": "d91310f123d753b9"
  },
  {
   "cell_type": "markdown",
   "source": [
    "# Exercise 3-3"
   ],
   "metadata": {
    "collapsed": false
   },
   "id": "f7685f5b68f56937"
  },
  {
   "cell_type": "code",
   "execution_count": 26,
   "outputs": [
    {
     "data": {
      "text/plain": "first drawer     0.5\nsecond drawer    0.5\nName: , dtype: float64",
      "text/html": "<div>\n<style scoped>\n    .dataframe tbody tr th:only-of-type {\n        vertical-align: middle;\n    }\n\n    .dataframe tbody tr th {\n        vertical-align: top;\n    }\n\n    .dataframe thead th {\n        text-align: right;\n    }\n</style>\n<table border=\"1\" class=\"dataframe\">\n  <thead>\n    <tr style=\"text-align: right;\">\n      <th></th>\n      <th>probs</th>\n    </tr>\n  </thead>\n  <tbody>\n    <tr>\n      <th>first drawer</th>\n      <td>0.5</td>\n    </tr>\n    <tr>\n      <th>second drawer</th>\n      <td>0.5</td>\n    </tr>\n  </tbody>\n</table>\n</div>"
     },
     "execution_count": 26,
     "metadata": {},
     "output_type": "execute_result"
    }
   ],
   "source": [
    "hypos = [\"first drawer\",\n",
    "         \"second drawer\"]\n",
    "prior = Pmf(1,hypos)\n",
    "prior.normalize()\n",
    "prior"
   ],
   "metadata": {
    "collapsed": false,
    "ExecuteTime": {
     "end_time": "2023-08-30T08:49:05.758244Z",
     "start_time": "2023-08-30T08:49:05.659461Z"
    }
   },
   "id": "c742f9b632dffbb9"
  },
  {
   "cell_type": "code",
   "execution_count": 27,
   "outputs": [
    {
     "data": {
      "text/plain": "first drawer     0.125\nsecond drawer    0.000\nName: , dtype: float64",
      "text/html": "<div>\n<style scoped>\n    .dataframe tbody tr th:only-of-type {\n        vertical-align: middle;\n    }\n\n    .dataframe tbody tr th {\n        vertical-align: top;\n    }\n\n    .dataframe thead th {\n        text-align: right;\n    }\n</style>\n<table border=\"1\" class=\"dataframe\">\n  <thead>\n    <tr style=\"text-align: right;\">\n      <th></th>\n      <th>probs</th>\n    </tr>\n  </thead>\n  <tbody>\n    <tr>\n      <th>first drawer</th>\n      <td>0.125</td>\n    </tr>\n    <tr>\n      <th>second drawer</th>\n      <td>0.000</td>\n    </tr>\n  </tbody>\n</table>\n</div>"
     },
     "execution_count": 27,
     "metadata": {},
     "output_type": "execute_result"
    }
   ],
   "source": [
    "likelihood_white = [1/4,0]\n",
    "posterior = prior * likelihood_white\n",
    "posterior"
   ],
   "metadata": {
    "collapsed": false,
    "ExecuteTime": {
     "end_time": "2023-08-30T08:49:05.758371Z",
     "start_time": "2023-08-30T08:49:05.666124Z"
    }
   },
   "id": "2f788f86703cf5d5"
  },
  {
   "cell_type": "markdown",
   "source": [
    "# Exercise 3-4\n",
    "$$P(\\text{Elvis ha un gemello identico} | \\text{Elvis ha un gemello}) = \\frac{P(\\text{Elvis ha un gemello} | \\text{Elvis ha un gemello identico})*P(\\text{Elvis ha un gemello identico})}{P(\\text{Elvis ha un gemello})}$$"
   ],
   "metadata": {
    "collapsed": false
   },
   "id": "4fe8bb174466104"
  },
  {
   "cell_type": "code",
   "execution_count": 28,
   "outputs": [
    {
     "data": {
      "text/plain": "Elvis Twin        0.166667\nElvis Not Twin    0.000000\nName: , dtype: float64",
      "text/html": "<div>\n<style scoped>\n    .dataframe tbody tr th:only-of-type {\n        vertical-align: middle;\n    }\n\n    .dataframe tbody tr th {\n        vertical-align: top;\n    }\n\n    .dataframe thead th {\n        text-align: right;\n    }\n</style>\n<table border=\"1\" class=\"dataframe\">\n  <thead>\n    <tr style=\"text-align: right;\">\n      <th></th>\n      <th>probs</th>\n    </tr>\n  </thead>\n  <tbody>\n    <tr>\n      <th>Elvis Twin</th>\n      <td>0.166667</td>\n    </tr>\n    <tr>\n      <th>Elvis Not Twin</th>\n      <td>0.000000</td>\n    </tr>\n  </tbody>\n</table>\n</div>"
     },
     "execution_count": 28,
     "metadata": {},
     "output_type": "execute_result"
    }
   ],
   "source": [
    "hypos = [\"Elvis Twin\", \"Elvis Not Twin\"] # I don't think this solution is right\n",
    "prior = Pmf(0.5, hypos)\n",
    "\n",
    "likelihood_identical = [1/3,0]\n",
    "posterior = prior * likelihood_identical\n",
    "posterior"
   ],
   "metadata": {
    "collapsed": false,
    "ExecuteTime": {
     "end_time": "2023-08-30T08:49:05.760192Z",
     "start_time": "2023-08-30T08:49:05.712478Z"
    }
   },
   "id": "1094dcb88fc2ac7f"
  },
  {
   "cell_type": "code",
   "execution_count": 28,
   "outputs": [],
   "source": [],
   "metadata": {
    "collapsed": false,
    "ExecuteTime": {
     "end_time": "2023-08-30T08:49:05.760251Z",
     "start_time": "2023-08-30T08:49:05.716357Z"
    }
   },
   "id": "5818db0c7bce191"
  }
 ],
 "metadata": {
  "kernelspec": {
   "display_name": "Python 3",
   "language": "python",
   "name": "python3"
  },
  "language_info": {
   "codemirror_mode": {
    "name": "ipython",
    "version": 2
   },
   "file_extension": ".py",
   "mimetype": "text/x-python",
   "name": "python",
   "nbconvert_exporter": "python",
   "pygments_lexer": "ipython2",
   "version": "2.7.6"
  }
 },
 "nbformat": 4,
 "nbformat_minor": 5
}
