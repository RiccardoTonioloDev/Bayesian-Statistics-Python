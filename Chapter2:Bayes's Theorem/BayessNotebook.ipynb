{
 "cells": [
  {
   "cell_type": "markdown",
   "metadata": {},
   "source": [
    "Let's create a Bayes Table to compute the Bayes update:"
   ]
  },
  {
   "cell_type": "markdown",
   "metadata": {},
   "source": [
    "# The cookie problem"
   ]
  },
  {
   "cell_type": "code",
   "execution_count": 1,
   "metadata": {
    "ExecuteTime": {
     "end_time": "2023-08-05T10:09:44.311860Z",
     "start_time": "2023-08-05T10:09:43.293818Z"
    }
   },
   "outputs": [
    {
     "data": {
      "text/plain": "       prior  likelihood  unnorm  posterior\nBowl1    0.5        0.75   0.375        0.6\nBowl2    0.5        0.50   0.250        0.4",
      "text/html": "<div>\n<style scoped>\n    .dataframe tbody tr th:only-of-type {\n        vertical-align: middle;\n    }\n\n    .dataframe tbody tr th {\n        vertical-align: top;\n    }\n\n    .dataframe thead th {\n        text-align: right;\n    }\n</style>\n<table border=\"1\" class=\"dataframe\">\n  <thead>\n    <tr style=\"text-align: right;\">\n      <th></th>\n      <th>prior</th>\n      <th>likelihood</th>\n      <th>unnorm</th>\n      <th>posterior</th>\n    </tr>\n  </thead>\n  <tbody>\n    <tr>\n      <th>Bowl1</th>\n      <td>0.5</td>\n      <td>0.75</td>\n      <td>0.375</td>\n      <td>0.6</td>\n    </tr>\n    <tr>\n      <th>Bowl2</th>\n      <td>0.5</td>\n      <td>0.50</td>\n      <td>0.250</td>\n      <td>0.4</td>\n    </tr>\n  </tbody>\n</table>\n</div>"
     },
     "execution_count": 1,
     "metadata": {},
     "output_type": "execute_result"
    }
   ],
   "source": [
    "import pandas as pd\n",
    "\n",
    "table = pd.DataFrame(index=['Bowl1','Bowl2']) # here we define the index\n",
    "\n",
    "# here we are inserting the columns with corresponding titles\n",
    "table['prior'] = 0.5, 0.5\n",
    "table['likelihood'] = 0.75, 0.5 # observe that likelihoods don't add up to 1 (that's ok, they are based on different hypothesis (different bowls)) \n",
    "table['unnorm'] = table['prior'] * table['likelihood'] # 'unnorm' because it's an unnormalized posterior\n",
    "\n",
    "prob_data = table['unnorm'].sum()\n",
    "\n",
    "table['posterior'] = table['unnorm'] / prob_data\n",
    "\n",
    "table"
   ]
  },
  {
   "cell_type": "markdown",
   "metadata": {},
   "source": [
    "Now we see that the posteriors add up to one, because they have been normalized."
   ]
  },
  {
   "cell_type": "markdown",
   "metadata": {},
   "source": [
    "# The dice problem"
   ]
  },
  {
   "cell_type": "code",
   "execution_count": 2,
   "metadata": {
    "ExecuteTime": {
     "end_time": "2023-08-05T10:10:28.329665Z",
     "start_time": "2023-08-05T10:10:28.322377Z"
    }
   },
   "outputs": [
    {
     "data": {
      "text/plain": "       prior likelihood unnorm posterior\ndice6    1/3        1/6   1/18       4/9\ndice8    1/3        1/8   1/24       1/3\ndice12   1/3       1/12   1/36       2/9",
      "text/html": "<div>\n<style scoped>\n    .dataframe tbody tr th:only-of-type {\n        vertical-align: middle;\n    }\n\n    .dataframe tbody tr th {\n        vertical-align: top;\n    }\n\n    .dataframe thead th {\n        text-align: right;\n    }\n</style>\n<table border=\"1\" class=\"dataframe\">\n  <thead>\n    <tr style=\"text-align: right;\">\n      <th></th>\n      <th>prior</th>\n      <th>likelihood</th>\n      <th>unnorm</th>\n      <th>posterior</th>\n    </tr>\n  </thead>\n  <tbody>\n    <tr>\n      <th>dice6</th>\n      <td>1/3</td>\n      <td>1/6</td>\n      <td>1/18</td>\n      <td>4/9</td>\n    </tr>\n    <tr>\n      <th>dice8</th>\n      <td>1/3</td>\n      <td>1/8</td>\n      <td>1/24</td>\n      <td>1/3</td>\n    </tr>\n    <tr>\n      <th>dice12</th>\n      <td>1/3</td>\n      <td>1/12</td>\n      <td>1/36</td>\n      <td>2/9</td>\n    </tr>\n  </tbody>\n</table>\n</div>"
     },
     "execution_count": 2,
     "metadata": {},
     "output_type": "execute_result"
    }
   ],
   "source": [
    "from fractions import Fraction\n",
    "diceTable = pd.DataFrame(index=[\"dice6\",\"dice8\",\"dice12\"])\n",
    "\n",
    "diceTable['prior'] = Fraction(1,3)\n",
    "diceTable['likelihood'] = Fraction(1,6), Fraction(1,8), Fraction(1,12)\n",
    "\n",
    "def update(table: pd.DataFrame) -> Fraction:\n",
    "    table['unnorm'] = diceTable['prior'] * diceTable['likelihood']\n",
    "    prob_data = diceTable['unnorm'].sum()\n",
    "    table['posterior'] = table['unnorm'] / prob_data\n",
    "    return prob_data\n",
    "\n",
    "prob_data = update(diceTable)\n",
    "diceTable"
   ]
  },
  {
   "cell_type": "markdown",
   "metadata": {},
   "source": [
    "# The Monty Hall Problem"
   ]
  },
  {
   "cell_type": "code",
   "execution_count": null,
   "metadata": {},
   "outputs": [],
   "source": []
  }
 ],
 "metadata": {
  "kernelspec": {
   "display_name": "myenv",
   "language": "python",
   "name": "python3"
  },
  "language_info": {
   "codemirror_mode": {
    "name": "ipython",
    "version": 3
   },
   "file_extension": ".py",
   "mimetype": "text/x-python",
   "name": "python",
   "nbconvert_exporter": "python",
   "pygments_lexer": "ipython3",
   "version": "3.9.16"
  },
  "orig_nbformat": 4
 },
 "nbformat": 4,
 "nbformat_minor": 2
}
