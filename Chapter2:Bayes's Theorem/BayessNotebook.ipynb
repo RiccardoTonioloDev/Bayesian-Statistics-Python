{
 "cells": [
  {
   "cell_type": "markdown",
   "metadata": {},
   "source": [
    "Let's create a Bayes Table to compute the Bayes update:"
   ]
  },
  {
   "cell_type": "markdown",
   "metadata": {},
   "source": [
    "# The cookie problem"
   ]
  },
  {
   "cell_type": "code",
   "execution_count": 16,
   "metadata": {
    "ExecuteTime": {
     "end_time": "2023-08-27T14:45:51.143504Z",
     "start_time": "2023-08-27T14:45:51.115634Z"
    }
   },
   "outputs": [
    {
     "data": {
      "text/plain": "       prior  likelihood  unnorm  posterior\nBowl1    0.5        0.75   0.375        0.6\nBowl2    0.5        0.50   0.250        0.4",
      "text/html": "<div>\n<style scoped>\n    .dataframe tbody tr th:only-of-type {\n        vertical-align: middle;\n    }\n\n    .dataframe tbody tr th {\n        vertical-align: top;\n    }\n\n    .dataframe thead th {\n        text-align: right;\n    }\n</style>\n<table border=\"1\" class=\"dataframe\">\n  <thead>\n    <tr style=\"text-align: right;\">\n      <th></th>\n      <th>prior</th>\n      <th>likelihood</th>\n      <th>unnorm</th>\n      <th>posterior</th>\n    </tr>\n  </thead>\n  <tbody>\n    <tr>\n      <th>Bowl1</th>\n      <td>0.5</td>\n      <td>0.75</td>\n      <td>0.375</td>\n      <td>0.6</td>\n    </tr>\n    <tr>\n      <th>Bowl2</th>\n      <td>0.5</td>\n      <td>0.50</td>\n      <td>0.250</td>\n      <td>0.4</td>\n    </tr>\n  </tbody>\n</table>\n</div>"
     },
     "execution_count": 16,
     "metadata": {},
     "output_type": "execute_result"
    }
   ],
   "source": [
    "import pandas as pd\n",
    "\n",
    "table = pd.DataFrame(index=['Bowl1','Bowl2']) # here we define the index\n",
    "\n",
    "# here we are inserting the columns with corresponding titles\n",
    "table['prior'] = 0.5, 0.5\n",
    "table['likelihood'] = 0.75, 0.5 # observe that likelihoods don't add up to 1 (that's ok, they are based on different hypothesis (different bowls)) \n",
    "table['unnorm'] = table['prior'] * table['likelihood'] # 'unnorm' because it's an unnormalized posterior\n",
    "\n",
    "prob_data = table['unnorm'].sum()\n",
    "\n",
    "table['posterior'] = table['unnorm'] / prob_data\n",
    "\n",
    "table"
   ]
  },
  {
   "cell_type": "markdown",
   "metadata": {},
   "source": [
    "Now we see that the posteriors add up to one, because they have been normalized."
   ]
  },
  {
   "cell_type": "markdown",
   "metadata": {},
   "source": [
    "# The dice problem"
   ]
  },
  {
   "cell_type": "code",
   "execution_count": 17,
   "outputs": [
    {
     "data": {
      "text/plain": "       prior likelihood unnorm posterior\ndice6    1/3        1/6   1/18       4/9\ndice8    1/3        1/8   1/24       1/3\ndice12   1/3       1/12   1/36       2/9",
      "text/html": "<div>\n<style scoped>\n    .dataframe tbody tr th:only-of-type {\n        vertical-align: middle;\n    }\n\n    .dataframe tbody tr th {\n        vertical-align: top;\n    }\n\n    .dataframe thead th {\n        text-align: right;\n    }\n</style>\n<table border=\"1\" class=\"dataframe\">\n  <thead>\n    <tr style=\"text-align: right;\">\n      <th></th>\n      <th>prior</th>\n      <th>likelihood</th>\n      <th>unnorm</th>\n      <th>posterior</th>\n    </tr>\n  </thead>\n  <tbody>\n    <tr>\n      <th>dice6</th>\n      <td>1/3</td>\n      <td>1/6</td>\n      <td>1/18</td>\n      <td>4/9</td>\n    </tr>\n    <tr>\n      <th>dice8</th>\n      <td>1/3</td>\n      <td>1/8</td>\n      <td>1/24</td>\n      <td>1/3</td>\n    </tr>\n    <tr>\n      <th>dice12</th>\n      <td>1/3</td>\n      <td>1/12</td>\n      <td>1/36</td>\n      <td>2/9</td>\n    </tr>\n  </tbody>\n</table>\n</div>"
     },
     "execution_count": 17,
     "metadata": {},
     "output_type": "execute_result"
    }
   ],
   "source": [
    "from fractions import Fraction\n",
    "diceTable = pd.DataFrame(index=[\"dice6\",\"dice8\",\"dice12\"])\n",
    "\n",
    "diceTable['prior'] = Fraction(1,3)\n",
    "diceTable['likelihood'] = Fraction(1,6), Fraction(1,8), Fraction(1,12)\n",
    "\n",
    "def update(table: pd.DataFrame) -> Fraction:\n",
    "    table['unnorm'] = table['prior'] * table['likelihood']\n",
    "    prob_data = table['unnorm'].sum()\n",
    "    table['posterior'] = table['unnorm'] / prob_data #normalization\n",
    "    return prob_data\n",
    "\n",
    "prob_data = update(diceTable)\n",
    "diceTable"
   ],
   "metadata": {
    "collapsed": false,
    "ExecuteTime": {
     "end_time": "2023-08-27T14:45:51.163579Z",
     "start_time": "2023-08-27T14:45:51.124841Z"
    }
   }
  },
  {
   "cell_type": "markdown",
   "metadata": {},
   "source": [
    "# The Monty Hall Problem"
   ]
  },
  {
   "cell_type": "code",
   "execution_count": 18,
   "metadata": {
    "ExecuteTime": {
     "end_time": "2023-08-27T14:45:51.164231Z",
     "start_time": "2023-08-27T14:45:51.138449Z"
    }
   },
   "outputs": [
    {
     "data": {
      "text/plain": "       prior\nDoor 1   1/3\nDoor 2   1/3\nDoor 3   1/3",
      "text/html": "<div>\n<style scoped>\n    .dataframe tbody tr th:only-of-type {\n        vertical-align: middle;\n    }\n\n    .dataframe tbody tr th {\n        vertical-align: top;\n    }\n\n    .dataframe thead th {\n        text-align: right;\n    }\n</style>\n<table border=\"1\" class=\"dataframe\">\n  <thead>\n    <tr style=\"text-align: right;\">\n      <th></th>\n      <th>prior</th>\n    </tr>\n  </thead>\n  <tbody>\n    <tr>\n      <th>Door 1</th>\n      <td>1/3</td>\n    </tr>\n    <tr>\n      <th>Door 2</th>\n      <td>1/3</td>\n    </tr>\n    <tr>\n      <th>Door 3</th>\n      <td>1/3</td>\n    </tr>\n  </tbody>\n</table>\n</div>"
     },
     "execution_count": 18,
     "metadata": {},
     "output_type": "execute_result"
    }
   ],
   "source": [
    "table3 = pd.DataFrame(index=['Door 1','Door 2','Door 3'])\n",
    "table3['prior'] = Fraction(1,3)\n",
    "table3"
   ]
  },
  {
   "cell_type": "markdown",
   "source": [
    "Now let's see if Monty opens the 3rd door what are the likelihoods (supposing that we are choosing the first door)"
   ],
   "metadata": {
    "collapsed": false
   }
  },
  {
   "cell_type": "code",
   "execution_count": 19,
   "outputs": [
    {
     "data": {
      "text/plain": "       prior likelihood\nDoor 1   1/3        1/2\nDoor 2   1/3          1\nDoor 3   1/3          0",
      "text/html": "<div>\n<style scoped>\n    .dataframe tbody tr th:only-of-type {\n        vertical-align: middle;\n    }\n\n    .dataframe tbody tr th {\n        vertical-align: top;\n    }\n\n    .dataframe thead th {\n        text-align: right;\n    }\n</style>\n<table border=\"1\" class=\"dataframe\">\n  <thead>\n    <tr style=\"text-align: right;\">\n      <th></th>\n      <th>prior</th>\n      <th>likelihood</th>\n    </tr>\n  </thead>\n  <tbody>\n    <tr>\n      <th>Door 1</th>\n      <td>1/3</td>\n      <td>1/2</td>\n    </tr>\n    <tr>\n      <th>Door 2</th>\n      <td>1/3</td>\n      <td>1</td>\n    </tr>\n    <tr>\n      <th>Door 3</th>\n      <td>1/3</td>\n      <td>0</td>\n    </tr>\n  </tbody>\n</table>\n</div>"
     },
     "execution_count": 19,
     "metadata": {},
     "output_type": "execute_result"
    }
   ],
   "source": [
    "table3['likelihood'] = Fraction(1,2), 1, 0\n",
    "table3"
   ],
   "metadata": {
    "collapsed": false,
    "ExecuteTime": {
     "end_time": "2023-08-27T14:45:51.193632Z",
     "start_time": "2023-08-27T14:45:51.145015Z"
    }
   }
  },
  {
   "cell_type": "markdown",
   "source": [
    "The probability of Door 3 is 0 because Monty opened it (so there is no chance that there is a car behind that).\n",
    "\n",
    "If the car is behind Door 2, Monty opening door 3 only means that he is obligated to do so (under this hypotheses the probability is 1 for Door 2).\n",
    "\n",
    "If the car is behind Door 1, Monty chose with equal probability between Door 2 and Door 3 (under this hypotheses the probability for Door 3 to be opened is 1/2)."
   ],
   "metadata": {
    "collapsed": false
   }
  },
  {
   "cell_type": "code",
   "execution_count": 20,
   "outputs": [
    {
     "data": {
      "text/plain": "       prior likelihood\nDoor 1   1/3        1/2\nDoor 2   1/3          1\nDoor 3   1/3          0",
      "text/html": "<div>\n<style scoped>\n    .dataframe tbody tr th:only-of-type {\n        vertical-align: middle;\n    }\n\n    .dataframe tbody tr th {\n        vertical-align: top;\n    }\n\n    .dataframe thead th {\n        text-align: right;\n    }\n</style>\n<table border=\"1\" class=\"dataframe\">\n  <thead>\n    <tr style=\"text-align: right;\">\n      <th></th>\n      <th>prior</th>\n      <th>likelihood</th>\n    </tr>\n  </thead>\n  <tbody>\n    <tr>\n      <th>Door 1</th>\n      <td>1/3</td>\n      <td>1/2</td>\n    </tr>\n    <tr>\n      <th>Door 2</th>\n      <td>1/3</td>\n      <td>1</td>\n    </tr>\n    <tr>\n      <th>Door 3</th>\n      <td>1/3</td>\n      <td>0</td>\n    </tr>\n  </tbody>\n</table>\n</div>"
     },
     "execution_count": 20,
     "metadata": {},
     "output_type": "execute_result"
    }
   ],
   "source": [
    "table3['likelihood'] = Fraction(1,2), 1, 0\n",
    "table3"
   ],
   "metadata": {
    "collapsed": false,
    "ExecuteTime": {
     "end_time": "2023-08-27T14:45:51.194419Z",
     "start_time": "2023-08-27T14:45:51.155853Z"
    }
   }
  },
  {
   "cell_type": "code",
   "execution_count": 21,
   "outputs": [
    {
     "data": {
      "text/plain": "       prior likelihood unnorm posterior\nDoor 1   1/3        1/2    1/6       1/3\nDoor 2   1/3          1    1/3       2/3\nDoor 3   1/3          0      0         0",
      "text/html": "<div>\n<style scoped>\n    .dataframe tbody tr th:only-of-type {\n        vertical-align: middle;\n    }\n\n    .dataframe tbody tr th {\n        vertical-align: top;\n    }\n\n    .dataframe thead th {\n        text-align: right;\n    }\n</style>\n<table border=\"1\" class=\"dataframe\">\n  <thead>\n    <tr style=\"text-align: right;\">\n      <th></th>\n      <th>prior</th>\n      <th>likelihood</th>\n      <th>unnorm</th>\n      <th>posterior</th>\n    </tr>\n  </thead>\n  <tbody>\n    <tr>\n      <th>Door 1</th>\n      <td>1/3</td>\n      <td>1/2</td>\n      <td>1/6</td>\n      <td>1/3</td>\n    </tr>\n    <tr>\n      <th>Door 2</th>\n      <td>1/3</td>\n      <td>1</td>\n      <td>1/3</td>\n      <td>2/3</td>\n    </tr>\n    <tr>\n      <th>Door 3</th>\n      <td>1/3</td>\n      <td>0</td>\n      <td>0</td>\n      <td>0</td>\n    </tr>\n  </tbody>\n</table>\n</div>"
     },
     "execution_count": 21,
     "metadata": {},
     "output_type": "execute_result"
    }
   ],
   "source": [
    "update(table3)\n",
    "table3"
   ],
   "metadata": {
    "collapsed": false,
    "ExecuteTime": {
     "end_time": "2023-08-27T14:45:51.195148Z",
     "start_time": "2023-08-27T14:45:51.160203Z"
    }
   }
  },
  {
   "cell_type": "code",
   "execution_count": 21,
   "outputs": [],
   "source": [],
   "metadata": {
    "collapsed": false,
    "ExecuteTime": {
     "end_time": "2023-08-27T14:45:51.198702Z",
     "start_time": "2023-08-27T14:45:51.166205Z"
    }
   }
  }
 ],
 "metadata": {
  "kernelspec": {
   "display_name": "myenv",
   "language": "python",
   "name": "python3"
  },
  "language_info": {
   "codemirror_mode": {
    "name": "ipython",
    "version": 3
   },
   "file_extension": ".py",
   "mimetype": "text/x-python",
   "name": "python",
   "nbconvert_exporter": "python",
   "pygments_lexer": "ipython3",
   "version": "3.9.16"
  },
  "orig_nbformat": 4
 },
 "nbformat": 4,
 "nbformat_minor": 2
}
