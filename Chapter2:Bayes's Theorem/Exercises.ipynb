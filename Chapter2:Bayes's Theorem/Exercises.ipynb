{
 "cells": [
  {
   "cell_type": "code",
   "execution_count": 39,
   "outputs": [],
   "source": [
    "import pandas as pd"
   ],
   "metadata": {
    "collapsed": false,
    "ExecuteTime": {
     "end_time": "2023-08-27T15:23:12.304205Z",
     "start_time": "2023-08-27T15:23:12.278653Z"
    }
   },
   "id": "9180f54374034710"
  },
  {
   "cell_type": "markdown",
   "source": [
    "# Execise 2-1"
   ],
   "metadata": {
    "collapsed": false
   },
   "id": "1669cb443e23e904"
  },
  {
   "cell_type": "code",
   "execution_count": 40,
   "outputs": [
    {
     "data": {
      "text/plain": "             prior  likelihood  unnorm  posterior\nnormal_coin    0.5         0.5    0.25   0.333333\ntrick_coin     0.5         1.0    0.50   0.666667",
      "text/html": "<div>\n<style scoped>\n    .dataframe tbody tr th:only-of-type {\n        vertical-align: middle;\n    }\n\n    .dataframe tbody tr th {\n        vertical-align: top;\n    }\n\n    .dataframe thead th {\n        text-align: right;\n    }\n</style>\n<table border=\"1\" class=\"dataframe\">\n  <thead>\n    <tr style=\"text-align: right;\">\n      <th></th>\n      <th>prior</th>\n      <th>likelihood</th>\n      <th>unnorm</th>\n      <th>posterior</th>\n    </tr>\n  </thead>\n  <tbody>\n    <tr>\n      <th>normal_coin</th>\n      <td>0.5</td>\n      <td>0.5</td>\n      <td>0.25</td>\n      <td>0.333333</td>\n    </tr>\n    <tr>\n      <th>trick_coin</th>\n      <td>0.5</td>\n      <td>1.0</td>\n      <td>0.50</td>\n      <td>0.666667</td>\n    </tr>\n  </tbody>\n</table>\n</div>"
     },
     "execution_count": 40,
     "metadata": {},
     "output_type": "execute_result"
    }
   ],
   "source": [
    "coin_table = pd.DataFrame(index=[\"normal_coin\",\"trick_coin\"])\n",
    "coin_table[\"prior\"] = 1/2, 1/2\n",
    "coin_table[\"likelihood\"] = 1/2, 1\n",
    "coin_table[\"unnorm\"] = coin_table[\"prior\"]*coin_table[\"likelihood\"]\n",
    "\n",
    "prob_data = coin_table[\"unnorm\"].sum()\n",
    "\n",
    "coin_table[\"posterior\"] = coin_table[\"unnorm\"] / prob_data\n",
    "coin_table"
   ],
   "metadata": {
    "collapsed": false,
    "ExecuteTime": {
     "end_time": "2023-08-27T15:23:12.325086Z",
     "start_time": "2023-08-27T15:23:12.287714Z"
    }
   },
   "id": "f0c945c8af3f7178"
  },
  {
   "cell_type": "markdown",
   "source": [
    "# Exercise 2-2"
   ],
   "metadata": {
    "collapsed": false
   },
   "id": "8c8456e08826bb5c"
  },
  {
   "cell_type": "code",
   "execution_count": 41,
   "outputs": [
    {
     "data": {
      "text/plain": "      prior  likelihood  unnorm  posterior\n1b1b   0.25           0    0.00   0.000000\n1b1g   0.50           1    0.50   0.666667\n1g1g   0.25           1    0.25   0.333333",
      "text/html": "<div>\n<style scoped>\n    .dataframe tbody tr th:only-of-type {\n        vertical-align: middle;\n    }\n\n    .dataframe tbody tr th {\n        vertical-align: top;\n    }\n\n    .dataframe thead th {\n        text-align: right;\n    }\n</style>\n<table border=\"1\" class=\"dataframe\">\n  <thead>\n    <tr style=\"text-align: right;\">\n      <th></th>\n      <th>prior</th>\n      <th>likelihood</th>\n      <th>unnorm</th>\n      <th>posterior</th>\n    </tr>\n  </thead>\n  <tbody>\n    <tr>\n      <th>1b1b</th>\n      <td>0.25</td>\n      <td>0</td>\n      <td>0.00</td>\n      <td>0.000000</td>\n    </tr>\n    <tr>\n      <th>1b1g</th>\n      <td>0.50</td>\n      <td>1</td>\n      <td>0.50</td>\n      <td>0.666667</td>\n    </tr>\n    <tr>\n      <th>1g1g</th>\n      <td>0.25</td>\n      <td>1</td>\n      <td>0.25</td>\n      <td>0.333333</td>\n    </tr>\n  </tbody>\n</table>\n</div>"
     },
     "execution_count": 41,
     "metadata": {},
     "output_type": "execute_result"
    }
   ],
   "source": [
    "child_table = pd.DataFrame(index=[\"1b1b\",\"1b1g\",\"1g1g\"])\n",
    "\n",
    "child_table[\"prior\"] = 1/4, 1/2, 1/4\n",
    "child_table[\"likelihood\"] = 0, 1, 1\n",
    "child_table[\"unnorm\"] = child_table[\"prior\"]*child_table[\"likelihood\"]\n",
    "\n",
    "prob_data = child_table[\"unnorm\"].sum()\n",
    "\n",
    "child_table[\"posterior\"] = child_table[\"unnorm\"] / prob_data\n",
    "child_table"
   ],
   "metadata": {
    "collapsed": false,
    "ExecuteTime": {
     "end_time": "2023-08-27T15:23:12.327985Z",
     "start_time": "2023-08-27T15:23:12.304131Z"
    }
   },
   "id": "10f584fc789f0b57"
  },
  {
   "cell_type": "markdown",
   "source": [
    "# Exercise 2-3\n",
    "> supposing monty always opens door2 if he can"
   ],
   "metadata": {
    "collapsed": false
   },
   "id": "6b56b5e30401ac49"
  },
  {
   "cell_type": "markdown",
   "source": [
    "Here we suppose that:\n",
    "1. we are choosing door 1;\n",
    "2. monty opens door 2."
   ],
   "metadata": {
    "collapsed": false
   },
   "id": "bc4a96713cd08038"
  },
  {
   "cell_type": "code",
   "execution_count": 42,
   "outputs": [
    {
     "data": {
      "text/plain": "          prior  likelihood    unnorm  posterior\ndoor1  0.333333           1  0.333333        0.5\ndoor2  0.333333           0  0.000000        0.0\ndoor3  0.333333           1  0.333333        0.5",
      "text/html": "<div>\n<style scoped>\n    .dataframe tbody tr th:only-of-type {\n        vertical-align: middle;\n    }\n\n    .dataframe tbody tr th {\n        vertical-align: top;\n    }\n\n    .dataframe thead th {\n        text-align: right;\n    }\n</style>\n<table border=\"1\" class=\"dataframe\">\n  <thead>\n    <tr style=\"text-align: right;\">\n      <th></th>\n      <th>prior</th>\n      <th>likelihood</th>\n      <th>unnorm</th>\n      <th>posterior</th>\n    </tr>\n  </thead>\n  <tbody>\n    <tr>\n      <th>door1</th>\n      <td>0.333333</td>\n      <td>1</td>\n      <td>0.333333</td>\n      <td>0.5</td>\n    </tr>\n    <tr>\n      <th>door2</th>\n      <td>0.333333</td>\n      <td>0</td>\n      <td>0.000000</td>\n      <td>0.0</td>\n    </tr>\n    <tr>\n      <th>door3</th>\n      <td>0.333333</td>\n      <td>1</td>\n      <td>0.333333</td>\n      <td>0.5</td>\n    </tr>\n  </tbody>\n</table>\n</div>"
     },
     "execution_count": 42,
     "metadata": {},
     "output_type": "execute_result"
    }
   ],
   "source": [
    "def update(table: pd.DataFrame) -> float:\n",
    "    table['unnorm'] = table['prior'] * table['likelihood']\n",
    "    prob_data = table['unnorm'].sum()\n",
    "    table['posterior'] = table['unnorm'] / prob_data #normalization\n",
    "    return prob_data\n",
    "\n",
    "monty_table = pd.DataFrame(index=[\"door1\",\"door2\",\"door3\"])\n",
    "\n",
    "monty_table[\"prior\"] = 1/3, 1/3, 1/3\n",
    "monty_table[\"likelihood\"] = 1, 0, 1 \n",
    "prob_data = update(monty_table)\n",
    "monty_table"
   ],
   "metadata": {
    "collapsed": false,
    "ExecuteTime": {
     "end_time": "2023-08-27T15:23:12.328685Z",
     "start_time": "2023-08-27T15:23:12.313976Z"
    }
   },
   "id": "883e6887147b33f9"
  },
  {
   "cell_type": "markdown",
   "source": [
    "We use 1, 0, 1 as likelihood because we have to think about the question \"what is the probability that monty opened the second door if the car is behind the door N?\" (replacing N with the number of each door, to find the likelihood of each door)"
   ],
   "metadata": {
    "collapsed": false
   },
   "id": "b0ca2afa02e1f63f"
  },
  {
   "cell_type": "code",
   "execution_count": 43,
   "outputs": [
    {
     "data": {
      "text/plain": "          prior  likelihood    unnorm  posterior\ndoor1  0.333333           0  0.000000        0.0\ndoor2  0.333333           1  0.333333        1.0\ndoor3  0.333333           0  0.000000        0.0",
      "text/html": "<div>\n<style scoped>\n    .dataframe tbody tr th:only-of-type {\n        vertical-align: middle;\n    }\n\n    .dataframe tbody tr th {\n        vertical-align: top;\n    }\n\n    .dataframe thead th {\n        text-align: right;\n    }\n</style>\n<table border=\"1\" class=\"dataframe\">\n  <thead>\n    <tr style=\"text-align: right;\">\n      <th></th>\n      <th>prior</th>\n      <th>likelihood</th>\n      <th>unnorm</th>\n      <th>posterior</th>\n    </tr>\n  </thead>\n  <tbody>\n    <tr>\n      <th>door1</th>\n      <td>0.333333</td>\n      <td>0</td>\n      <td>0.000000</td>\n      <td>0.0</td>\n    </tr>\n    <tr>\n      <th>door2</th>\n      <td>0.333333</td>\n      <td>1</td>\n      <td>0.333333</td>\n      <td>1.0</td>\n    </tr>\n    <tr>\n      <th>door3</th>\n      <td>0.333333</td>\n      <td>0</td>\n      <td>0.000000</td>\n      <td>0.0</td>\n    </tr>\n  </tbody>\n</table>\n</div>"
     },
     "execution_count": 43,
     "metadata": {},
     "output_type": "execute_result"
    }
   ],
   "source": [
    "monty_table2 = pd.DataFrame(index=[\"door1\",\"door2\",\"door3\"])\n",
    "\n",
    "monty_table2[\"prior\"] = 1/3, 1/3, 1/3\n",
    "monty_table2[\"likelihood\"] = 0, 1, 0\n",
    "prob_data = update(monty_table2)\n",
    "monty_table2"
   ],
   "metadata": {
    "collapsed": false,
    "ExecuteTime": {
     "end_time": "2023-08-27T15:23:12.329170Z",
     "start_time": "2023-08-27T15:23:12.320740Z"
    }
   },
   "id": "27789ff7c880ff8"
  },
  {
   "cell_type": "markdown",
   "source": [
    "# Exercise 2-4"
   ],
   "metadata": {
    "collapsed": false
   },
   "id": "46f8ab681346e29f"
  },
  {
   "cell_type": "code",
   "execution_count": 44,
   "outputs": [
    {
     "data": {
      "text/plain": "    prior  likelihood  unnorm  posterior\n94    0.5       0.040   0.020   0.740741\n96    0.5       0.014   0.007   0.259259",
      "text/html": "<div>\n<style scoped>\n    .dataframe tbody tr th:only-of-type {\n        vertical-align: middle;\n    }\n\n    .dataframe tbody tr th {\n        vertical-align: top;\n    }\n\n    .dataframe thead th {\n        text-align: right;\n    }\n</style>\n<table border=\"1\" class=\"dataframe\">\n  <thead>\n    <tr style=\"text-align: right;\">\n      <th></th>\n      <th>prior</th>\n      <th>likelihood</th>\n      <th>unnorm</th>\n      <th>posterior</th>\n    </tr>\n  </thead>\n  <tbody>\n    <tr>\n      <th>94</th>\n      <td>0.5</td>\n      <td>0.040</td>\n      <td>0.020</td>\n      <td>0.740741</td>\n    </tr>\n    <tr>\n      <th>96</th>\n      <td>0.5</td>\n      <td>0.014</td>\n      <td>0.007</td>\n      <td>0.259259</td>\n    </tr>\n  </tbody>\n</table>\n</div>"
     },
     "execution_count": 44,
     "metadata": {},
     "output_type": "execute_result"
    }
   ],
   "source": [
    "mnm_table = pd.DataFrame(index=[\"94\",\"96\"])\n",
    "mnm_table[\"prior\"] = 0.5\n",
    "mnm_table[\"likelihood\"] = (0.2*0.2), (0.14*0.1)\n",
    "prob_data = update(mnm_table)\n",
    "\n",
    "mnm_table"
   ],
   "metadata": {
    "collapsed": false,
    "ExecuteTime": {
     "end_time": "2023-08-27T15:23:12.336072Z",
     "start_time": "2023-08-27T15:23:12.332171Z"
    }
   },
   "id": "a7fe3ba1edef288"
  }
 ],
 "metadata": {
  "kernelspec": {
   "display_name": "Python 3",
   "language": "python",
   "name": "python3"
  },
  "language_info": {
   "codemirror_mode": {
    "name": "ipython",
    "version": 2
   },
   "file_extension": ".py",
   "mimetype": "text/x-python",
   "name": "python",
   "nbconvert_exporter": "python",
   "pygments_lexer": "ipython2",
   "version": "2.7.6"
  }
 },
 "nbformat": 4,
 "nbformat_minor": 5
}
