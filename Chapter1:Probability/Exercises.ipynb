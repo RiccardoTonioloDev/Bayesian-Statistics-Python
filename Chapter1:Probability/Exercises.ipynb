{
 "cells": [
  {
   "cell_type": "code",
   "execution_count": 3,
   "metadata": {},
   "outputs": [
    {
     "data": {
      "text/html": [
       "<div>\n",
       "<style scoped>\n",
       "    .dataframe tbody tr th:only-of-type {\n",
       "        vertical-align: middle;\n",
       "    }\n",
       "\n",
       "    .dataframe tbody tr th {\n",
       "        vertical-align: top;\n",
       "    }\n",
       "\n",
       "    .dataframe thead th {\n",
       "        text-align: right;\n",
       "    }\n",
       "</style>\n",
       "<table border=\"1\" class=\"dataframe\">\n",
       "  <thead>\n",
       "    <tr style=\"text-align: right;\">\n",
       "      <th></th>\n",
       "      <th>year</th>\n",
       "      <th>age</th>\n",
       "      <th>sex</th>\n",
       "      <th>polviews</th>\n",
       "      <th>partyid</th>\n",
       "      <th>indus10</th>\n",
       "    </tr>\n",
       "    <tr>\n",
       "      <th>caseid</th>\n",
       "      <th></th>\n",
       "      <th></th>\n",
       "      <th></th>\n",
       "      <th></th>\n",
       "      <th></th>\n",
       "      <th></th>\n",
       "    </tr>\n",
       "  </thead>\n",
       "  <tbody>\n",
       "    <tr>\n",
       "      <th>1</th>\n",
       "      <td>1974</td>\n",
       "      <td>21.0</td>\n",
       "      <td>1</td>\n",
       "      <td>4.0</td>\n",
       "      <td>2.0</td>\n",
       "      <td>4970.0</td>\n",
       "    </tr>\n",
       "    <tr>\n",
       "      <th>2</th>\n",
       "      <td>1974</td>\n",
       "      <td>41.0</td>\n",
       "      <td>1</td>\n",
       "      <td>5.0</td>\n",
       "      <td>0.0</td>\n",
       "      <td>9160.0</td>\n",
       "    </tr>\n",
       "    <tr>\n",
       "      <th>5</th>\n",
       "      <td>1974</td>\n",
       "      <td>58.0</td>\n",
       "      <td>2</td>\n",
       "      <td>6.0</td>\n",
       "      <td>1.0</td>\n",
       "      <td>2670.0</td>\n",
       "    </tr>\n",
       "    <tr>\n",
       "      <th>6</th>\n",
       "      <td>1974</td>\n",
       "      <td>30.0</td>\n",
       "      <td>1</td>\n",
       "      <td>5.0</td>\n",
       "      <td>4.0</td>\n",
       "      <td>6870.0</td>\n",
       "    </tr>\n",
       "    <tr>\n",
       "      <th>7</th>\n",
       "      <td>1974</td>\n",
       "      <td>48.0</td>\n",
       "      <td>1</td>\n",
       "      <td>5.0</td>\n",
       "      <td>4.0</td>\n",
       "      <td>7860.0</td>\n",
       "    </tr>\n",
       "  </tbody>\n",
       "</table>\n",
       "</div>"
      ],
      "text/plain": [
       "        year   age  sex  polviews  partyid  indus10\n",
       "caseid                                             \n",
       "1       1974  21.0    1       4.0      2.0   4970.0\n",
       "2       1974  41.0    1       5.0      0.0   9160.0\n",
       "5       1974  58.0    2       6.0      1.0   2670.0\n",
       "6       1974  30.0    1       5.0      4.0   6870.0\n",
       "7       1974  48.0    1       5.0      4.0   7860.0"
      ]
     },
     "execution_count": 3,
     "metadata": {},
     "output_type": "execute_result"
    }
   ],
   "source": [
    "import pandas as pd\n",
    "data = pd.read_csv('gss_bayes.csv',index_col=0)\n",
    "\n",
    "def probability(event: pd.DataFrame)->float:\n",
    "    return event.mean()\n",
    "\n",
    "def conditionalProbability(event: pd.DataFrame, given: pd.DataFrame) -> float:\n",
    "    return probability(event[given])\n",
    "\n",
    "data.head()"
   ]
  },
  {
   "cell_type": "markdown",
   "metadata": {},
   "source": [
    "# Exercise 1"
   ]
  },
  {
   "cell_type": "code",
   "execution_count": 4,
   "metadata": {},
   "outputs": [],
   "source": [
    "female = (data['sex'] == 2)\n",
    "banker = (data['indus10'] == 6870)\n",
    "liberal = (data['polviews']<=3)\n",
    "democrat = (data['partyid']<=1)"
   ]
  },
  {
   "cell_type": "code",
   "execution_count": 5,
   "metadata": {},
   "outputs": [
    {
     "name": "stdout",
     "output_type": "stream",
     "text": [
      "Prob. of Linda being a banker:  0.011381618989653074\n",
      "Prob. of Linda being a banker and liberal:  0.002556299452221546\n",
      "Prob. of Linda being a banker and liberal and democrat:  0.0012375735443294787\n"
     ]
    }
   ],
   "source": [
    "print(\"Prob. of Linda being a banker: \", probability(female & banker))\n",
    "print(\"Prob. of Linda being a banker and liberal: \", probability(liberal & female & banker))\n",
    "print(\"Prob. of Linda being a banker and liberal and democrat: \", probability(liberal & female & banker & democrat))"
   ]
  },
  {
   "cell_type": "markdown",
   "metadata": {},
   "source": [
    "# Exercise 2"
   ]
  },
  {
   "cell_type": "code",
   "execution_count": 6,
   "metadata": {},
   "outputs": [
    {
     "name": "stdout",
     "output_type": "stream",
     "text": [
      "Prob. of liberal given democrat:  0.3891320002215698\n",
      "Prob. of democrat given liberal:  0.5206403320240125\n"
     ]
    }
   ],
   "source": [
    "print(\"Prob. of liberal given democrat: \",conditionalProbability(liberal,given=democrat))\n",
    "print(\"Prob. of democrat given liberal: \",conditionalProbability(democrat,given=liberal))"
   ]
  },
  {
   "cell_type": "markdown",
   "metadata": {},
   "source": [
    "# Exercise 3"
   ]
  },
  {
   "cell_type": "code",
   "execution_count": 8,
   "metadata": {},
   "outputs": [
    {
     "name": "stdout",
     "output_type": "stream",
     "text": [
      "0.19435991073240008\n",
      "0.17328058429701765\n",
      "0.3419354838709677\n"
     ]
    }
   ],
   "source": [
    "young = (data['age'] < 30)\n",
    "old = (data['age'] >= 65)\n",
    "conservative = (data['polviews'] >= 5)"
   ]
  },
  {
   "cell_type": "code",
   "execution_count": 11,
   "metadata": {},
   "outputs": [
    {
     "name": "stdout",
     "output_type": "stream",
     "text": [
      "Prob. of young liberal:  0.06579427875836884\n",
      "Prob. of a young person being liberal:  0.338517745302714\n",
      "Prob. of old conservatives:  0.06701156421180766\n",
      "Prob. of a conservative person being old:  0.19597721609113564\n",
      "Prob. of an old person being conservative:  0.38672286617492097\n"
     ]
    }
   ],
   "source": [
    "print(\"Prob. of young liberal: \",probability(young & liberal))\n",
    "print(\"Prob. of a young person being liberal: \",conditionalProbability(liberal,given=young))\n",
    "print(\"Prob. of old conservatives: \",probability(old & conservative))\n",
    "print(\"Prob. of a conservative person being old: \",conditionalProbability(old,given=conservative))\n",
    "print(\"Prob. of an old person being conservative: \",conditionalProbability(conservative,given=old))"
   ]
  }
 ],
 "metadata": {
  "kernelspec": {
   "display_name": "myenv",
   "language": "python",
   "name": "python3"
  },
  "language_info": {
   "codemirror_mode": {
    "name": "ipython",
    "version": 3
   },
   "file_extension": ".py",
   "mimetype": "text/x-python",
   "name": "python",
   "nbconvert_exporter": "python",
   "pygments_lexer": "ipython3",
   "version": "3.9.16"
  },
  "orig_nbformat": 4
 },
 "nbformat": 4,
 "nbformat_minor": 2
}
