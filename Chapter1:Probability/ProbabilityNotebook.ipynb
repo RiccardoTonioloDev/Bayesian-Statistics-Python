{
 "cells": [
  {
   "cell_type": "code",
   "execution_count": 2,
   "metadata": {},
   "outputs": [
    {
     "data": {
      "text/html": [
       "<div>\n",
       "<style scoped>\n",
       "    .dataframe tbody tr th:only-of-type {\n",
       "        vertical-align: middle;\n",
       "    }\n",
       "\n",
       "    .dataframe tbody tr th {\n",
       "        vertical-align: top;\n",
       "    }\n",
       "\n",
       "    .dataframe thead th {\n",
       "        text-align: right;\n",
       "    }\n",
       "</style>\n",
       "<table border=\"1\" class=\"dataframe\">\n",
       "  <thead>\n",
       "    <tr style=\"text-align: right;\">\n",
       "      <th></th>\n",
       "      <th>year</th>\n",
       "      <th>age</th>\n",
       "      <th>sex</th>\n",
       "      <th>polviews</th>\n",
       "      <th>partyid</th>\n",
       "      <th>indus10</th>\n",
       "    </tr>\n",
       "    <tr>\n",
       "      <th>caseid</th>\n",
       "      <th></th>\n",
       "      <th></th>\n",
       "      <th></th>\n",
       "      <th></th>\n",
       "      <th></th>\n",
       "      <th></th>\n",
       "    </tr>\n",
       "  </thead>\n",
       "  <tbody>\n",
       "    <tr>\n",
       "      <th>1</th>\n",
       "      <td>1974</td>\n",
       "      <td>21.0</td>\n",
       "      <td>1</td>\n",
       "      <td>4.0</td>\n",
       "      <td>2.0</td>\n",
       "      <td>4970.0</td>\n",
       "    </tr>\n",
       "    <tr>\n",
       "      <th>2</th>\n",
       "      <td>1974</td>\n",
       "      <td>41.0</td>\n",
       "      <td>1</td>\n",
       "      <td>5.0</td>\n",
       "      <td>0.0</td>\n",
       "      <td>9160.0</td>\n",
       "    </tr>\n",
       "    <tr>\n",
       "      <th>5</th>\n",
       "      <td>1974</td>\n",
       "      <td>58.0</td>\n",
       "      <td>2</td>\n",
       "      <td>6.0</td>\n",
       "      <td>1.0</td>\n",
       "      <td>2670.0</td>\n",
       "    </tr>\n",
       "    <tr>\n",
       "      <th>6</th>\n",
       "      <td>1974</td>\n",
       "      <td>30.0</td>\n",
       "      <td>1</td>\n",
       "      <td>5.0</td>\n",
       "      <td>4.0</td>\n",
       "      <td>6870.0</td>\n",
       "    </tr>\n",
       "    <tr>\n",
       "      <th>7</th>\n",
       "      <td>1974</td>\n",
       "      <td>48.0</td>\n",
       "      <td>1</td>\n",
       "      <td>5.0</td>\n",
       "      <td>4.0</td>\n",
       "      <td>7860.0</td>\n",
       "    </tr>\n",
       "  </tbody>\n",
       "</table>\n",
       "</div>"
      ],
      "text/plain": [
       "        year   age  sex  polviews  partyid  indus10\n",
       "caseid                                             \n",
       "1       1974  21.0    1       4.0      2.0   4970.0\n",
       "2       1974  41.0    1       5.0      0.0   9160.0\n",
       "5       1974  58.0    2       6.0      1.0   2670.0\n",
       "6       1974  30.0    1       5.0      4.0   6870.0\n",
       "7       1974  48.0    1       5.0      4.0   7860.0"
      ]
     },
     "execution_count": 2,
     "metadata": {},
     "output_type": "execute_result"
    }
   ],
   "source": [
    "import pandas as pd\n",
    "\n",
    "gss = pd.read_csv('gss_bayes.csv', index_col=0)\n",
    "gss.head()"
   ]
  },
  {
   "cell_type": "markdown",
   "metadata": {},
   "source": [
    "Once the dataset is imported, we can focus only on bankers:"
   ]
  },
  {
   "cell_type": "code",
   "execution_count": 3,
   "metadata": {},
   "outputs": [
    {
     "name": "stdout",
     "output_type": "stream",
     "text": [
      "Probability of a banker:  1.48 %\n"
     ]
    }
   ],
   "source": [
    "bankers = (gss['indus10'] == 6870) #6870 it's the code for banking\n",
    "bankers.head()\n",
    "\n",
    "numOfBankers = bankers.sum() #it treats True as 1 and False as 0\n",
    "fractionOfBankers = bankers.mean() #it computes the mean, but it's basically the fraction of bankers on the total\n",
    "print(\"Probability of a banker: \",round(fractionOfBankers*100,2),\"%\")"
   ]
  },
  {
   "cell_type": "code",
   "execution_count": 4,
   "metadata": {},
   "outputs": [
    {
     "data": {
      "text/plain": [
       "0.014769730168391155"
      ]
     },
     "execution_count": 4,
     "metadata": {},
     "output_type": "execute_result"
    }
   ],
   "source": [
    "def probability(A: pd.DataFrame):\n",
    "    return A.mean()\n",
    "\n",
    "probability(bankers)"
   ]
  },
  {
   "cell_type": "code",
   "execution_count": 5,
   "metadata": {},
   "outputs": [
    {
     "data": {
      "text/plain": [
       "0.5378575776019476"
      ]
     },
     "execution_count": 5,
     "metadata": {},
     "output_type": "execute_result"
    }
   ],
   "source": [
    "female = (gss['sex'] == 2)\n",
    "probability(female)"
   ]
  },
  {
   "cell_type": "markdown",
   "metadata": {},
   "source": [
    "Now let's analyze the political views:"
   ]
  },
  {
   "cell_type": "code",
   "execution_count": 6,
   "metadata": {},
   "outputs": [
    {
     "data": {
      "text/plain": [
       "0.3662609048488537"
      ]
     },
     "execution_count": 6,
     "metadata": {},
     "output_type": "execute_result"
    }
   ],
   "source": [
    "liberal = (gss['polviews']<=3)\n",
    "democrat = (gss['partyid']<=1)\n",
    "\n",
    "probability(liberal)\n",
    "probability(democrat)"
   ]
  },
  {
   "cell_type": "markdown",
   "metadata": {},
   "source": [
    "Let's analyze the conjunction of the events:"
   ]
  },
  {
   "cell_type": "code",
   "execution_count": 7,
   "metadata": {},
   "outputs": [
    {
     "data": {
      "text/plain": [
       "0.004686548995739501"
      ]
     },
     "execution_count": 7,
     "metadata": {},
     "output_type": "execute_result"
    }
   ],
   "source": [
    "probability(bankers & democrat) #here we are using the & (elementwise and operator)"
   ]
  },
  {
   "cell_type": "markdown",
   "metadata": {},
   "source": [
    "Let's find out the probability of democrats if liberal:"
   ]
  },
  {
   "cell_type": "code",
   "execution_count": 8,
   "metadata": {},
   "outputs": [
    {
     "data": {
      "text/plain": [
       "0.5206403320240125"
      ]
     },
     "execution_count": 8,
     "metadata": {},
     "output_type": "execute_result"
    }
   ],
   "source": [
    "selected = democrat[liberal] # this kind of behaviour is only possible because of pandas\n",
    "probability(selected)"
   ]
  },
  {
   "cell_type": "markdown",
   "metadata": {},
   "source": [
    "Fraction of bankers that are female:"
   ]
  },
  {
   "cell_type": "code",
   "execution_count": 9,
   "metadata": {},
   "outputs": [
    {
     "data": {
      "text/plain": [
       "0.7706043956043956"
      ]
     },
     "execution_count": 9,
     "metadata": {},
     "output_type": "execute_result"
    }
   ],
   "source": [
    "selected = female[bankers]\n",
    "probability(selected)"
   ]
  },
  {
   "cell_type": "code",
   "execution_count": 10,
   "metadata": {},
   "outputs": [
    {
     "name": "stdout",
     "output_type": "stream",
     "text": [
      "0.7706043956043956\n",
      "0.02116102749801969\n"
     ]
    }
   ],
   "source": [
    "def conditionalProbability(proposition: pd.DataFrame,given:pd.DataFrame):\n",
    "    return probability(proposition[given]) #using only the Trues in the proposition we see how much of them are True even in the given\n",
    "\n",
    "print(conditionalProbability(female,bankers)) #fraction of female inside the bankers set\n",
    "print(conditionalProbability(bankers,female)) #fraction of bankers inside the female set"
   ]
  },
  {
   "cell_type": "markdown",
   "metadata": {},
   "source": [
    "We can see that:\n",
    "- 77% of bankers are female;\n",
    "- 2% of females are bankers."
   ]
  },
  {
   "cell_type": "code",
   "execution_count": 13,
   "metadata": {},
   "outputs": [
    {
     "name": "stdout",
     "output_type": "stream",
     "text": [
      "0.576085409252669\n",
      "0.17307692307692307\n"
     ]
    }
   ],
   "source": [
    "print(conditionalProbability(female,given = liberal & democrat))\n",
    "print(conditionalProbability(liberal & female, given=bankers))"
   ]
  },
  {
   "cell_type": "markdown",
   "metadata": {},
   "source": [
    "Instead here we can see that:\n",
    "- 57% of liberal and democrat people, are female;\n",
    "- 17% of bankers are liberale and female.\n",
    "\n",
    "# Theorem 1 of probability\n",
    "Now let's see how to calculate the fraction of females given the banker subset in a different way from what we saw in conditional probability:\n",
    "$$P(Female|Bankers) = \\frac{P(\\text{Female and Bankers})}{P(Bankers)}$$"
   ]
  },
  {
   "cell_type": "code",
   "execution_count": 14,
   "metadata": {},
   "outputs": [
    {
     "name": "stdout",
     "output_type": "stream",
     "text": [
      "0.7706043956043956\n",
      "0.7706043956043956\n"
     ]
    }
   ],
   "source": [
    "print(female[bankers].mean()) # equal to conditionalProbability(female,bankers)\n",
    "print(probability(female & bankers) / probability(bankers))"
   ]
  },
  {
   "cell_type": "markdown",
   "metadata": {},
   "source": [
    "# Theorem 2 of probability\n",
    "To calculate the probability of the conjunction of liberal and democrats P(liberal&democrats), we can multiply both sides (using the formula above with the current predicates) with democrats, obtaining this:\n",
    "$$P(liberal|democrats)\\times P(democrats) = P(\\text{liberal and democrats})$$"
   ]
  },
  {
   "cell_type": "code",
   "execution_count": 17,
   "metadata": {},
   "outputs": [
    {
     "name": "stdout",
     "output_type": "stream",
     "text": [
      "0.1425238385067965\n",
      "0.1425238385067965\n"
     ]
    }
   ],
   "source": [
    "print(probability(liberal & democrat))\n",
    "print(probability(democrat) * conditionalProbability(liberal,democrat))"
   ]
  },
  {
   "cell_type": "markdown",
   "metadata": {},
   "source": [
    "# Theorem 3 of probability (Bayes's Theorem)\n",
    "Given that the conjunction is commutative, we can apply the second theorem from both sides and obtain:\n",
    "$$P(A|B)\\times P(B) = P(B|A)\\times P(A)$$\n",
    "Now if we divide from both sides with P(B) we obtain the Bayes's Theorem:\n",
    "$$P(A|B) = \\frac{P(B|A)\\times P(A)}{P(B)}$$"
   ]
  },
  {
   "cell_type": "code",
   "execution_count": 18,
   "metadata": {},
   "outputs": [
    {
     "name": "stdout",
     "output_type": "stream",
     "text": [
      "0.2239010989010989\n",
      "0.2239010989010989\n"
     ]
    }
   ],
   "source": [
    "print(conditionalProbability(liberal, given=bankers))\n",
    "print(conditionalProbability(bankers,given=liberal)*probability(liberal)/probability(bankers))"
   ]
  },
  {
   "cell_type": "markdown",
   "metadata": {},
   "source": [
    "# Law of total probability\n",
    "The law says:\n",
    "$$P(A) = P(B_{1} and A) + P(B_{2}and A)$$\n",
    "Only if $B_{1}$ and $B_{2}$ are:\n",
    "- mutually exclusive (only one of them can be true);\n",
    "- collectively exhaustive, which means that one of them must be true."
   ]
  },
  {
   "cell_type": "code",
   "execution_count": 20,
   "metadata": {},
   "outputs": [
    {
     "name": "stdout",
     "output_type": "stream",
     "text": [
      "0.014769730168391155\n",
      "0.014769730168391155\n",
      "0.014769730168391153\n"
     ]
    }
   ],
   "source": [
    "male = (gss['sex'] == 1)\n",
    "\n",
    "print(probability(bankers))\n",
    "print(probability(bankers & male) + probability(bankers & female))\n",
    "\n",
    "# Using theorem 2\n",
    "print(conditionalProbability(bankers,given=male)*probability(male) + conditionalProbability(bankers,given=female)*probability(female))"
   ]
  },
  {
   "cell_type": "markdown",
   "metadata": {},
   "source": [
    "In case of multiple mutually exclusive and collectively exhaustive propositions to check, we can write the formula as a summation:\n",
    "$$P(A) = \\sum_{i}P(B_i)\\times P(A|B_i)$$"
   ]
  },
  {
   "cell_type": "code",
   "execution_count": 22,
   "metadata": {},
   "outputs": [
    {
     "data": {
      "text/plain": [
       "1.0     1442\n",
       "2.0     5808\n",
       "3.0     6243\n",
       "4.0    18943\n",
       "5.0     7940\n",
       "6.0     7319\n",
       "7.0     1595\n",
       "Name: polviews, dtype: int64"
      ]
     },
     "execution_count": 22,
     "metadata": {},
     "output_type": "execute_result"
    }
   ],
   "source": [
    "politicalViews = gss['polviews']\n",
    "politicalViews.value_counts().sort_index()"
   ]
  },
  {
   "cell_type": "code",
   "execution_count": 23,
   "metadata": {},
   "outputs": [
    {
     "data": {
      "text/plain": [
       "0.014769730168391157"
      ]
     },
     "execution_count": 23,
     "metadata": {},
     "output_type": "execute_result"
    }
   ],
   "source": [
    "# we can compute the probability of bankers in this way:\n",
    "sum([probability((politicalViews == i)*conditionalProbability(bankers,(politicalViews==i))) for i in range(1,8)])"
   ]
  }
 ],
 "metadata": {
  "kernelspec": {
   "display_name": "myenv",
   "language": "python",
   "name": "python3"
  },
  "language_info": {
   "codemirror_mode": {
    "name": "ipython",
    "version": 3
   },
   "file_extension": ".py",
   "mimetype": "text/x-python",
   "name": "python",
   "nbconvert_exporter": "python",
   "pygments_lexer": "ipython3",
   "version": "3.9.16"
  },
  "orig_nbformat": 4
 },
 "nbformat": 4,
 "nbformat_minor": 2
}
